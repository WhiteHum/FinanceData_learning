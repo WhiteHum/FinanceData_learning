{
  "cells": [
    {
      "cell_type": "markdown",
      "metadata": {
        "id": "view-in-github",
        "colab_type": "text"
      },
      "source": [
        "<a href=\"https://colab.research.google.com/github/WhiteHum/financeData_learning/blob/main/2_2_KRX_%EC%A0%84%EC%B2%B4_%EC%A2%85%EB%AA%A9%EB%B6%84%EC%84%9D_input.ipynb\" target=\"_parent\"><img src=\"https://colab.research.google.com/assets/colab-badge.svg\" alt=\"Open In Colab\"/></a>"
      ]
    },
    {
      "cell_type": "markdown",
      "metadata": {
        "id": "HWKVTvP7v9xb"
      },
      "source": [
        "[![Open In Colab](https://colab.research.google.com/assets/colab-badge.svg)](https://colab.research.google.com/github/corazzon/finance-data-analysis/blob/main/2.2.%20KRX%20%EC%A0%84%EC%B2%B4%20%EC%A2%85%EB%AA%A9%EB%B6%84%EC%84%9D-input.ipynb)\n",
        "\n",
        "## 한국거래소(KRX) 전체 종목 분석\n",
        "* Pandas cheat sheet 를 함께 보세요! : [Pandas_Cheat_Sheet.pdf](https://pandas.pydata.org/Pandas_Cheat_Sheet.pdf)\n",
        "\n",
        "* FinanceDataReader를 통한 KRX 전체 종목 수집\n",
        "    * to_csv(\"파일명\", index=False) : csv 파일로 저장하기\n",
        "    * read_csv(\"파일명\") : csv 파일 불러오기\n",
        "    \n",
        "* Pandas를 통한 파일 저장과 불러오기\n",
        "    * shape를 통한 행과 열의 수 보기\n",
        "    * head, tail, sample 을 통한 일부 데이터 가져오기\n",
        "    \n",
        "* DataFrame의 info(), describe() 등을 통한 요약과 기술통계 값 구하기\n",
        "    * info()\n",
        "    * describe()\n",
        "    * nunique()\n",
        "    * index\n",
        "    * columns\n",
        "    * values\n",
        "    \n",
        "* Pandas의  DataFrame과 Series의 이해\n",
        "    * Series : 1차원 벡터구조\n",
        "    * DataFrame : 2차원 행렬구조\n",
        "    \n",
        "* 색인하기\n",
        "    * [컬럼]\n",
        "    * .loc[행]\n",
        "    * .loc[행, 열]\n",
        "    * .loc[조건식, 열]\n",
        "    \n",
        "* DataFrame의 데이터 타입 이해하기\n",
        "    * 날짜 데이터의 변환\n",
        "    \n",
        "* DataFrame 다루기\n",
        "    * 열(column) 인덱싱\n",
        "    * 행(index) 인덱싱\n",
        "    * 행, 열 인덱싱\n",
        "    * 정렬하기 : sort_values 사용하기\n",
        "    * 조건식 사용하기\n",
        "\n",
        "* 빈도수 구하기\n",
        "    * 한 개의 변수 : series.value_counts()\n",
        "    * 두 개의 변수 : pd.crosstab()\n",
        "\n",
        "* groupby 와 pivot_table\n",
        "    * 다양한 연산식의 사용\n",
        "\n",
        "\n",
        "## ⚠️ 주의할 점 ⚠️ \n",
        "* 강좌의 분석내용과 여러분의 실습 결과는 시점의 차이로 빈도수 등의 결과값이 다르게 나옵니다.\n",
        "\n",
        "\n",
        "\n",
        "## 라이브러리 불러오기"
      ]
    },
    {
      "cell_type": "code",
      "execution_count": 1,
      "metadata": {
        "id": "OGQuQOfmv9xb"
      },
      "outputs": [],
      "source": [
        "# 데이터 분석을 위해 pandas, 시각화를 위해 seaborn 불러오기\n",
        "import pandas as pd\n",
        "import seaborn as sns"
      ]
    },
    {
      "cell_type": "markdown",
      "metadata": {
        "id": "NZrikuL1v9xa"
      },
      "source": [
        "## FinanceDataReader 로 수집한 전체 종목 불러오기\n",
        "\n",
        "* 한국 주식 가격, 미국주식 가격, 지수, 환율, 암호화폐 가격, 종목 리스팅 등 금융 데이터 수집 라이브러리\n",
        "\n",
        "* [FinanceDataReader 사용자 안내서 | FinanceData](https://financedata.github.io/posts/finance-data-reader-users-guide.html)\n",
        "* https://pandas-datareader.readthedocs.io/en/latest/readers/index.html\n",
        "\n",
        "<img src=\"https://pandas.pydata.org/docs/_images/02_io_readwrite.svg\">"
      ]
    },
    {
      "cell_type": "markdown",
      "metadata": {
        "id": "9emGA9ESxcWg"
      },
      "source": [
        "## <font color=\"red\">종목명이 영문으로 표기될 때</font>\n",
        "\n",
        "해당 수업은 실시간으로 한국거래소에서 FinanceDataReader 라는 라이브러리를 통해 데이터를 받아오고 있습니다.\n",
        "아래 링크에 있는 라이브러리의 소스코드가 KRX 전체 종목을 가져오는 소스코드입니다.\n",
        "\n",
        "[FinanceDataReader/listing.py at master · FinanceData/FinanceDataReader](https://github.com/FinanceData/FinanceDataReader/blob/master/krx/listing.py)\n",
        "\n",
        "이 때, 전체 상장종목과 거래할 수 있는 ETF 등의 종목도 함께 가져오게 되는데,\n",
        "FinanceDataReader 에서는 코스피, 코스닥, 코넥스 정보가 있는 엑셀파일과 금융상품 정보가 있는 JSON 데이터를 가져와서 병합하는 형태로 데이터를 제공하고 있습니다.\n",
        "그런데 최근 JSON 데이터의 종목명이 영문으로 변경되어 제공되고 있음을 확인했습니다.\n",
        "그래서 아래의 엑셀 데이터를 read_html 로 읽어오게 되면 한글로 된 종목명을 받아서 분석해 보실 수 있습니다."
      ]
    },
    {
      "cell_type": "code",
      "execution_count": 2,
      "metadata": {
        "colab": {
          "base_uri": "https://localhost:8080/",
          "height": 467
        },
        "id": "mlMLF4-4xcWh",
        "outputId": "80f6fdd5-7229-418e-ba67-22f5a8aefed5"
      },
      "outputs": [
        {
          "output_type": "execute_result",
          "data": {
            "text/plain": [
              "           Name  Symbol           Sector  \\\n",
              "0         DRB동일  004840         고무제품 제조업   \n",
              "1           DSR  155660      1차 비철금속 제조업   \n",
              "2            GS  078930           기타 금융업   \n",
              "3     HDC현대산업개발  294870           건물 건설업   \n",
              "4         KG케미칼  001390      기초 화학물질 제조업   \n",
              "...         ...     ...              ...   \n",
              "2557     코스텍시스템  169670    특수 목적용 기계 제조업   \n",
              "2558       타임기술  318660   소프트웨어 개발 및 공급업   \n",
              "2559   플럼라인생명과학  222670  자연과학 및 공학 연구개발업   \n",
              "2560   한국미라클피플사  331660      기타 화학제품 제조업   \n",
              "2561        휴벡셀  212310       의료용 기기 제조업   \n",
              "\n",
              "                                           Industry ListingDate SettleMonth  \\\n",
              "0                 고무벨트(V벨트,콘베이어벨트,평벨트),프라스틱제품 제조,판매  1976-05-21         12월   \n",
              "1                                            합섬섬유로프  2013-05-15         12월   \n",
              "2                                       지주회사/부동산 임대  2004-08-05         12월   \n",
              "3                            외주주택, 자체공사, 일반건축, 토목 등  2018-06-12         12월   \n",
              "4                         콘크리트혼화제, 비료, 친환경농자재, 수처리제  1989-08-25         12월   \n",
              "...                                             ...         ...         ...   \n",
              "2557                             반도체 웨이퍼 이송장비, 본딩장비  2022-01-21         12월   \n",
              "2558  ILS(종합군수지원), IETM(전자식기술교범), CBT(전자식교보재), 기술번역  2021-06-24         12월   \n",
              "2559                               강아지암치료제,돼지DNA테라피  2015-07-28         12월   \n",
              "2560                                 은나노스텝, 닥터오렌지 등  2019-10-28         12월   \n",
              "2561                                     척추용 임플란트 등  2016-07-26         12월   \n",
              "\n",
              "               Representative                 HomePage Region  \n",
              "0                         류영식      http://drbworld.com  부산광역시  \n",
              "1                         홍석빈       http://www.dsr.com  부산광역시  \n",
              "2          허태수, 홍순기 (각자 대표이사)                      NaN  서울특별시  \n",
              "3     최익훈, 정익희, 김회언 (각자 대표이사)   http://www.hdc-dvp.com  서울특별시  \n",
              "4                    곽정현, 김재익  http://www.kgchem.co.kr  울산광역시  \n",
              "...                       ...                      ...    ...  \n",
              "2557                      배준호  http://www.kosteks.com/    경기도  \n",
              "2558                      주양효      http://timett.co.kr   경상남도  \n",
              "2559                   김앤토니경태    http://www.plsdna.com  서울특별시  \n",
              "2560                      이호경    http://www.kmpc.co.kr    경기도  \n",
              "2561           박정민, 허성규(각자대표)       http://huvexel.com    경기도  \n",
              "\n",
              "[2562 rows x 9 columns]"
            ],
            "text/html": [
              "\n",
              "  <div id=\"df-b00bf5cc-68d1-410f-960e-9a889a88ac5c\">\n",
              "    <div class=\"colab-df-container\">\n",
              "      <div>\n",
              "<style scoped>\n",
              "    .dataframe tbody tr th:only-of-type {\n",
              "        vertical-align: middle;\n",
              "    }\n",
              "\n",
              "    .dataframe tbody tr th {\n",
              "        vertical-align: top;\n",
              "    }\n",
              "\n",
              "    .dataframe thead th {\n",
              "        text-align: right;\n",
              "    }\n",
              "</style>\n",
              "<table border=\"1\" class=\"dataframe\">\n",
              "  <thead>\n",
              "    <tr style=\"text-align: right;\">\n",
              "      <th></th>\n",
              "      <th>Name</th>\n",
              "      <th>Symbol</th>\n",
              "      <th>Sector</th>\n",
              "      <th>Industry</th>\n",
              "      <th>ListingDate</th>\n",
              "      <th>SettleMonth</th>\n",
              "      <th>Representative</th>\n",
              "      <th>HomePage</th>\n",
              "      <th>Region</th>\n",
              "    </tr>\n",
              "  </thead>\n",
              "  <tbody>\n",
              "    <tr>\n",
              "      <th>0</th>\n",
              "      <td>DRB동일</td>\n",
              "      <td>004840</td>\n",
              "      <td>고무제품 제조업</td>\n",
              "      <td>고무벨트(V벨트,콘베이어벨트,평벨트),프라스틱제품 제조,판매</td>\n",
              "      <td>1976-05-21</td>\n",
              "      <td>12월</td>\n",
              "      <td>류영식</td>\n",
              "      <td>http://drbworld.com</td>\n",
              "      <td>부산광역시</td>\n",
              "    </tr>\n",
              "    <tr>\n",
              "      <th>1</th>\n",
              "      <td>DSR</td>\n",
              "      <td>155660</td>\n",
              "      <td>1차 비철금속 제조업</td>\n",
              "      <td>합섬섬유로프</td>\n",
              "      <td>2013-05-15</td>\n",
              "      <td>12월</td>\n",
              "      <td>홍석빈</td>\n",
              "      <td>http://www.dsr.com</td>\n",
              "      <td>부산광역시</td>\n",
              "    </tr>\n",
              "    <tr>\n",
              "      <th>2</th>\n",
              "      <td>GS</td>\n",
              "      <td>078930</td>\n",
              "      <td>기타 금융업</td>\n",
              "      <td>지주회사/부동산 임대</td>\n",
              "      <td>2004-08-05</td>\n",
              "      <td>12월</td>\n",
              "      <td>허태수, 홍순기 (각자 대표이사)</td>\n",
              "      <td>NaN</td>\n",
              "      <td>서울특별시</td>\n",
              "    </tr>\n",
              "    <tr>\n",
              "      <th>3</th>\n",
              "      <td>HDC현대산업개발</td>\n",
              "      <td>294870</td>\n",
              "      <td>건물 건설업</td>\n",
              "      <td>외주주택, 자체공사, 일반건축, 토목 등</td>\n",
              "      <td>2018-06-12</td>\n",
              "      <td>12월</td>\n",
              "      <td>최익훈, 정익희, 김회언 (각자 대표이사)</td>\n",
              "      <td>http://www.hdc-dvp.com</td>\n",
              "      <td>서울특별시</td>\n",
              "    </tr>\n",
              "    <tr>\n",
              "      <th>4</th>\n",
              "      <td>KG케미칼</td>\n",
              "      <td>001390</td>\n",
              "      <td>기초 화학물질 제조업</td>\n",
              "      <td>콘크리트혼화제, 비료, 친환경농자재, 수처리제</td>\n",
              "      <td>1989-08-25</td>\n",
              "      <td>12월</td>\n",
              "      <td>곽정현, 김재익</td>\n",
              "      <td>http://www.kgchem.co.kr</td>\n",
              "      <td>울산광역시</td>\n",
              "    </tr>\n",
              "    <tr>\n",
              "      <th>...</th>\n",
              "      <td>...</td>\n",
              "      <td>...</td>\n",
              "      <td>...</td>\n",
              "      <td>...</td>\n",
              "      <td>...</td>\n",
              "      <td>...</td>\n",
              "      <td>...</td>\n",
              "      <td>...</td>\n",
              "      <td>...</td>\n",
              "    </tr>\n",
              "    <tr>\n",
              "      <th>2557</th>\n",
              "      <td>코스텍시스템</td>\n",
              "      <td>169670</td>\n",
              "      <td>특수 목적용 기계 제조업</td>\n",
              "      <td>반도체 웨이퍼 이송장비, 본딩장비</td>\n",
              "      <td>2022-01-21</td>\n",
              "      <td>12월</td>\n",
              "      <td>배준호</td>\n",
              "      <td>http://www.kosteks.com/</td>\n",
              "      <td>경기도</td>\n",
              "    </tr>\n",
              "    <tr>\n",
              "      <th>2558</th>\n",
              "      <td>타임기술</td>\n",
              "      <td>318660</td>\n",
              "      <td>소프트웨어 개발 및 공급업</td>\n",
              "      <td>ILS(종합군수지원), IETM(전자식기술교범), CBT(전자식교보재), 기술번역</td>\n",
              "      <td>2021-06-24</td>\n",
              "      <td>12월</td>\n",
              "      <td>주양효</td>\n",
              "      <td>http://timett.co.kr</td>\n",
              "      <td>경상남도</td>\n",
              "    </tr>\n",
              "    <tr>\n",
              "      <th>2559</th>\n",
              "      <td>플럼라인생명과학</td>\n",
              "      <td>222670</td>\n",
              "      <td>자연과학 및 공학 연구개발업</td>\n",
              "      <td>강아지암치료제,돼지DNA테라피</td>\n",
              "      <td>2015-07-28</td>\n",
              "      <td>12월</td>\n",
              "      <td>김앤토니경태</td>\n",
              "      <td>http://www.plsdna.com</td>\n",
              "      <td>서울특별시</td>\n",
              "    </tr>\n",
              "    <tr>\n",
              "      <th>2560</th>\n",
              "      <td>한국미라클피플사</td>\n",
              "      <td>331660</td>\n",
              "      <td>기타 화학제품 제조업</td>\n",
              "      <td>은나노스텝, 닥터오렌지 등</td>\n",
              "      <td>2019-10-28</td>\n",
              "      <td>12월</td>\n",
              "      <td>이호경</td>\n",
              "      <td>http://www.kmpc.co.kr</td>\n",
              "      <td>경기도</td>\n",
              "    </tr>\n",
              "    <tr>\n",
              "      <th>2561</th>\n",
              "      <td>휴벡셀</td>\n",
              "      <td>212310</td>\n",
              "      <td>의료용 기기 제조업</td>\n",
              "      <td>척추용 임플란트 등</td>\n",
              "      <td>2016-07-26</td>\n",
              "      <td>12월</td>\n",
              "      <td>박정민, 허성규(각자대표)</td>\n",
              "      <td>http://huvexel.com</td>\n",
              "      <td>경기도</td>\n",
              "    </tr>\n",
              "  </tbody>\n",
              "</table>\n",
              "<p>2562 rows × 9 columns</p>\n",
              "</div>\n",
              "      <button class=\"colab-df-convert\" onclick=\"convertToInteractive('df-b00bf5cc-68d1-410f-960e-9a889a88ac5c')\"\n",
              "              title=\"Convert this dataframe to an interactive table.\"\n",
              "              style=\"display:none;\">\n",
              "        \n",
              "  <svg xmlns=\"http://www.w3.org/2000/svg\" height=\"24px\"viewBox=\"0 0 24 24\"\n",
              "       width=\"24px\">\n",
              "    <path d=\"M0 0h24v24H0V0z\" fill=\"none\"/>\n",
              "    <path d=\"M18.56 5.44l.94 2.06.94-2.06 2.06-.94-2.06-.94-.94-2.06-.94 2.06-2.06.94zm-11 1L8.5 8.5l.94-2.06 2.06-.94-2.06-.94L8.5 2.5l-.94 2.06-2.06.94zm10 10l.94 2.06.94-2.06 2.06-.94-2.06-.94-.94-2.06-.94 2.06-2.06.94z\"/><path d=\"M17.41 7.96l-1.37-1.37c-.4-.4-.92-.59-1.43-.59-.52 0-1.04.2-1.43.59L10.3 9.45l-7.72 7.72c-.78.78-.78 2.05 0 2.83L4 21.41c.39.39.9.59 1.41.59.51 0 1.02-.2 1.41-.59l7.78-7.78 2.81-2.81c.8-.78.8-2.07 0-2.86zM5.41 20L4 18.59l7.72-7.72 1.47 1.35L5.41 20z\"/>\n",
              "  </svg>\n",
              "      </button>\n",
              "      \n",
              "  <style>\n",
              "    .colab-df-container {\n",
              "      display:flex;\n",
              "      flex-wrap:wrap;\n",
              "      gap: 12px;\n",
              "    }\n",
              "\n",
              "    .colab-df-convert {\n",
              "      background-color: #E8F0FE;\n",
              "      border: none;\n",
              "      border-radius: 50%;\n",
              "      cursor: pointer;\n",
              "      display: none;\n",
              "      fill: #1967D2;\n",
              "      height: 32px;\n",
              "      padding: 0 0 0 0;\n",
              "      width: 32px;\n",
              "    }\n",
              "\n",
              "    .colab-df-convert:hover {\n",
              "      background-color: #E2EBFA;\n",
              "      box-shadow: 0px 1px 2px rgba(60, 64, 67, 0.3), 0px 1px 3px 1px rgba(60, 64, 67, 0.15);\n",
              "      fill: #174EA6;\n",
              "    }\n",
              "\n",
              "    [theme=dark] .colab-df-convert {\n",
              "      background-color: #3B4455;\n",
              "      fill: #D2E3FC;\n",
              "    }\n",
              "\n",
              "    [theme=dark] .colab-df-convert:hover {\n",
              "      background-color: #434B5C;\n",
              "      box-shadow: 0px 1px 3px 1px rgba(0, 0, 0, 0.15);\n",
              "      filter: drop-shadow(0px 1px 2px rgba(0, 0, 0, 0.3));\n",
              "      fill: #FFFFFF;\n",
              "    }\n",
              "  </style>\n",
              "\n",
              "      <script>\n",
              "        const buttonEl =\n",
              "          document.querySelector('#df-b00bf5cc-68d1-410f-960e-9a889a88ac5c button.colab-df-convert');\n",
              "        buttonEl.style.display =\n",
              "          google.colab.kernel.accessAllowed ? 'block' : 'none';\n",
              "\n",
              "        async function convertToInteractive(key) {\n",
              "          const element = document.querySelector('#df-b00bf5cc-68d1-410f-960e-9a889a88ac5c');\n",
              "          const dataTable =\n",
              "            await google.colab.kernel.invokeFunction('convertToInteractive',\n",
              "                                                     [key], {});\n",
              "          if (!dataTable) return;\n",
              "\n",
              "          const docLinkHtml = 'Like what you see? Visit the ' +\n",
              "            '<a target=\"_blank\" href=https://colab.research.google.com/notebooks/data_table.ipynb>data table notebook</a>'\n",
              "            + ' to learn more about interactive tables.';\n",
              "          element.innerHTML = '';\n",
              "          dataTable['output_type'] = 'display_data';\n",
              "          await google.colab.output.renderOutput(dataTable, element);\n",
              "          const docLink = document.createElement('div');\n",
              "          docLink.innerHTML = docLinkHtml;\n",
              "          element.appendChild(docLink);\n",
              "        }\n",
              "      </script>\n",
              "    </div>\n",
              "  </div>\n",
              "  "
            ]
          },
          "metadata": {},
          "execution_count": 2
        }
      ],
      "source": [
        "# # 종목명이 영문으로 표기 될 때 아래의 주석을 풀고 데이터를 받아서 분석해 보세요!\n",
        "url = 'http://kind.krx.co.kr/corpgeneral/corpList.do?method=download&searchType=13'\n",
        "df_listing = pd.read_html(url, header=0)[0]\n",
        "cols_ren = {'회사명':'Name', '종목코드':'Symbol', '업종':'Sector', '주요제품':'Industry', \n",
        "                    '상장일':'ListingDate', '결산월':'SettleMonth',  '대표자명':'Representative', \n",
        "                    '홈페이지':'HomePage', '지역':'Region', }\n",
        "df = df_listing.rename(columns = cols_ren)\n",
        "df['Symbol'] = df['Symbol'].apply(lambda x: '{:06d}'.format(x))\n",
        "df['ListingDate'] = pd.to_datetime(df['ListingDate'])\n",
        "df"
      ]
    },
    {
      "cell_type": "code",
      "execution_count": 3,
      "metadata": {
        "id": "Rz9eJjDsv9xc",
        "colab": {
          "base_uri": "https://localhost:8080/",
          "height": 589
        },
        "outputId": "7f7ca139-42c2-4e62-bf68-8a2c4258e98f"
      },
      "outputs": [
        {
          "output_type": "execute_result",
          "data": {
            "text/plain": [
              "      Symbol  Market     Name                    Sector  \\\n",
              "0     060310  KOSDAQ       3S             특수 목적용 기계 제조업   \n",
              "1     095570   KOSPI   AJ네트웍스           산업용 기계 및 장비 임대업   \n",
              "2     006840   KOSPI    AK홀딩스                    기타 금융업   \n",
              "3     054620  KOSDAQ   APS홀딩스                    기타 금융업   \n",
              "4     265520  KOSDAQ    AP시스템             특수 목적용 기계 제조업   \n",
              "...      ...     ...      ...                       ...   \n",
              "2607  000547   KOSPI  흥국화재2우B                       NaN   \n",
              "2608  000545   KOSPI    흥국화재우                       NaN   \n",
              "2609  003280   KOSPI     흥아해운                    해상 운송업   \n",
              "2610  037440  KOSDAQ       희림  건축기술, 엔지니어링 및 관련 기술 서비스업   \n",
              "2611  238490  KOSDAQ       힘스             특수 목적용 기계 제조업   \n",
              "\n",
              "                            Industry ListingDate SettleMonth  \\\n",
              "0                        반도체 웨이퍼 캐리어  2002-04-23         03월   \n",
              "1                렌탈(파렛트, OA장비, 건설장비)  2015-08-21         12월   \n",
              "2                               지주사업  1999-08-11         12월   \n",
              "3                        인터넷 트래픽 솔루션  2001-12-04         12월   \n",
              "4                        디스플레이 제조 장비  2017-04-07         12월   \n",
              "...                              ...         ...         ...   \n",
              "2607                             NaN         NaN         NaN   \n",
              "2608                             NaN         NaN         NaN   \n",
              "2609                  외항화물운송업(케미컬탱커)  1976-06-29         12월   \n",
              "2610                       설계 및 감리용역  2000-02-03         12월   \n",
              "2611  OLED Mask 인장기, OLED Mask 검사기 등  2017-07-20         12월   \n",
              "\n",
              "                 Representative                       HomePage Region  \n",
              "0            박종익, 김세완 (각자 대표이사)           http://www.3sref.com  서울특별시  \n",
              "1                           이현우         http://www.ajnet.co.kr  서울특별시  \n",
              "2             채형석, 이석주(각자 대표이사)  http://www.aekyunggroup.co.kr  서울특별시  \n",
              "3                           정기로   http://www.apsholdings.co.kr    경기도  \n",
              "4                           김영주     http://www.apsystems.co.kr    경기도  \n",
              "...                         ...                            ...    ...  \n",
              "2607                        NaN                            NaN    NaN  \n",
              "2608                        NaN                            NaN    NaN  \n",
              "2609                        이환구         http://www.heung-a.com  서울특별시  \n",
              "2610  정영균, 이목운, 허철호, 염두성 (각자대표)          http://www.heerim.com  서울특별시  \n",
              "2611                        김주환          http://www.hims.co.kr  인천광역시  \n",
              "\n",
              "[2612 rows x 10 columns]"
            ],
            "text/html": [
              "\n",
              "  <div id=\"df-9b1e5d43-ee7c-4d8c-9aef-6c9dd2a3fdd6\">\n",
              "    <div class=\"colab-df-container\">\n",
              "      <div>\n",
              "<style scoped>\n",
              "    .dataframe tbody tr th:only-of-type {\n",
              "        vertical-align: middle;\n",
              "    }\n",
              "\n",
              "    .dataframe tbody tr th {\n",
              "        vertical-align: top;\n",
              "    }\n",
              "\n",
              "    .dataframe thead th {\n",
              "        text-align: right;\n",
              "    }\n",
              "</style>\n",
              "<table border=\"1\" class=\"dataframe\">\n",
              "  <thead>\n",
              "    <tr style=\"text-align: right;\">\n",
              "      <th></th>\n",
              "      <th>Symbol</th>\n",
              "      <th>Market</th>\n",
              "      <th>Name</th>\n",
              "      <th>Sector</th>\n",
              "      <th>Industry</th>\n",
              "      <th>ListingDate</th>\n",
              "      <th>SettleMonth</th>\n",
              "      <th>Representative</th>\n",
              "      <th>HomePage</th>\n",
              "      <th>Region</th>\n",
              "    </tr>\n",
              "  </thead>\n",
              "  <tbody>\n",
              "    <tr>\n",
              "      <th>0</th>\n",
              "      <td>060310</td>\n",
              "      <td>KOSDAQ</td>\n",
              "      <td>3S</td>\n",
              "      <td>특수 목적용 기계 제조업</td>\n",
              "      <td>반도체 웨이퍼 캐리어</td>\n",
              "      <td>2002-04-23</td>\n",
              "      <td>03월</td>\n",
              "      <td>박종익, 김세완 (각자 대표이사)</td>\n",
              "      <td>http://www.3sref.com</td>\n",
              "      <td>서울특별시</td>\n",
              "    </tr>\n",
              "    <tr>\n",
              "      <th>1</th>\n",
              "      <td>095570</td>\n",
              "      <td>KOSPI</td>\n",
              "      <td>AJ네트웍스</td>\n",
              "      <td>산업용 기계 및 장비 임대업</td>\n",
              "      <td>렌탈(파렛트, OA장비, 건설장비)</td>\n",
              "      <td>2015-08-21</td>\n",
              "      <td>12월</td>\n",
              "      <td>이현우</td>\n",
              "      <td>http://www.ajnet.co.kr</td>\n",
              "      <td>서울특별시</td>\n",
              "    </tr>\n",
              "    <tr>\n",
              "      <th>2</th>\n",
              "      <td>006840</td>\n",
              "      <td>KOSPI</td>\n",
              "      <td>AK홀딩스</td>\n",
              "      <td>기타 금융업</td>\n",
              "      <td>지주사업</td>\n",
              "      <td>1999-08-11</td>\n",
              "      <td>12월</td>\n",
              "      <td>채형석, 이석주(각자 대표이사)</td>\n",
              "      <td>http://www.aekyunggroup.co.kr</td>\n",
              "      <td>서울특별시</td>\n",
              "    </tr>\n",
              "    <tr>\n",
              "      <th>3</th>\n",
              "      <td>054620</td>\n",
              "      <td>KOSDAQ</td>\n",
              "      <td>APS홀딩스</td>\n",
              "      <td>기타 금융업</td>\n",
              "      <td>인터넷 트래픽 솔루션</td>\n",
              "      <td>2001-12-04</td>\n",
              "      <td>12월</td>\n",
              "      <td>정기로</td>\n",
              "      <td>http://www.apsholdings.co.kr</td>\n",
              "      <td>경기도</td>\n",
              "    </tr>\n",
              "    <tr>\n",
              "      <th>4</th>\n",
              "      <td>265520</td>\n",
              "      <td>KOSDAQ</td>\n",
              "      <td>AP시스템</td>\n",
              "      <td>특수 목적용 기계 제조업</td>\n",
              "      <td>디스플레이 제조 장비</td>\n",
              "      <td>2017-04-07</td>\n",
              "      <td>12월</td>\n",
              "      <td>김영주</td>\n",
              "      <td>http://www.apsystems.co.kr</td>\n",
              "      <td>경기도</td>\n",
              "    </tr>\n",
              "    <tr>\n",
              "      <th>...</th>\n",
              "      <td>...</td>\n",
              "      <td>...</td>\n",
              "      <td>...</td>\n",
              "      <td>...</td>\n",
              "      <td>...</td>\n",
              "      <td>...</td>\n",
              "      <td>...</td>\n",
              "      <td>...</td>\n",
              "      <td>...</td>\n",
              "      <td>...</td>\n",
              "    </tr>\n",
              "    <tr>\n",
              "      <th>2607</th>\n",
              "      <td>000547</td>\n",
              "      <td>KOSPI</td>\n",
              "      <td>흥국화재2우B</td>\n",
              "      <td>NaN</td>\n",
              "      <td>NaN</td>\n",
              "      <td>NaN</td>\n",
              "      <td>NaN</td>\n",
              "      <td>NaN</td>\n",
              "      <td>NaN</td>\n",
              "      <td>NaN</td>\n",
              "    </tr>\n",
              "    <tr>\n",
              "      <th>2608</th>\n",
              "      <td>000545</td>\n",
              "      <td>KOSPI</td>\n",
              "      <td>흥국화재우</td>\n",
              "      <td>NaN</td>\n",
              "      <td>NaN</td>\n",
              "      <td>NaN</td>\n",
              "      <td>NaN</td>\n",
              "      <td>NaN</td>\n",
              "      <td>NaN</td>\n",
              "      <td>NaN</td>\n",
              "    </tr>\n",
              "    <tr>\n",
              "      <th>2609</th>\n",
              "      <td>003280</td>\n",
              "      <td>KOSPI</td>\n",
              "      <td>흥아해운</td>\n",
              "      <td>해상 운송업</td>\n",
              "      <td>외항화물운송업(케미컬탱커)</td>\n",
              "      <td>1976-06-29</td>\n",
              "      <td>12월</td>\n",
              "      <td>이환구</td>\n",
              "      <td>http://www.heung-a.com</td>\n",
              "      <td>서울특별시</td>\n",
              "    </tr>\n",
              "    <tr>\n",
              "      <th>2610</th>\n",
              "      <td>037440</td>\n",
              "      <td>KOSDAQ</td>\n",
              "      <td>희림</td>\n",
              "      <td>건축기술, 엔지니어링 및 관련 기술 서비스업</td>\n",
              "      <td>설계 및 감리용역</td>\n",
              "      <td>2000-02-03</td>\n",
              "      <td>12월</td>\n",
              "      <td>정영균, 이목운, 허철호, 염두성 (각자대표)</td>\n",
              "      <td>http://www.heerim.com</td>\n",
              "      <td>서울특별시</td>\n",
              "    </tr>\n",
              "    <tr>\n",
              "      <th>2611</th>\n",
              "      <td>238490</td>\n",
              "      <td>KOSDAQ</td>\n",
              "      <td>힘스</td>\n",
              "      <td>특수 목적용 기계 제조업</td>\n",
              "      <td>OLED Mask 인장기, OLED Mask 검사기 등</td>\n",
              "      <td>2017-07-20</td>\n",
              "      <td>12월</td>\n",
              "      <td>김주환</td>\n",
              "      <td>http://www.hims.co.kr</td>\n",
              "      <td>인천광역시</td>\n",
              "    </tr>\n",
              "  </tbody>\n",
              "</table>\n",
              "<p>2612 rows × 10 columns</p>\n",
              "</div>\n",
              "      <button class=\"colab-df-convert\" onclick=\"convertToInteractive('df-9b1e5d43-ee7c-4d8c-9aef-6c9dd2a3fdd6')\"\n",
              "              title=\"Convert this dataframe to an interactive table.\"\n",
              "              style=\"display:none;\">\n",
              "        \n",
              "  <svg xmlns=\"http://www.w3.org/2000/svg\" height=\"24px\"viewBox=\"0 0 24 24\"\n",
              "       width=\"24px\">\n",
              "    <path d=\"M0 0h24v24H0V0z\" fill=\"none\"/>\n",
              "    <path d=\"M18.56 5.44l.94 2.06.94-2.06 2.06-.94-2.06-.94-.94-2.06-.94 2.06-2.06.94zm-11 1L8.5 8.5l.94-2.06 2.06-.94-2.06-.94L8.5 2.5l-.94 2.06-2.06.94zm10 10l.94 2.06.94-2.06 2.06-.94-2.06-.94-.94-2.06-.94 2.06-2.06.94z\"/><path d=\"M17.41 7.96l-1.37-1.37c-.4-.4-.92-.59-1.43-.59-.52 0-1.04.2-1.43.59L10.3 9.45l-7.72 7.72c-.78.78-.78 2.05 0 2.83L4 21.41c.39.39.9.59 1.41.59.51 0 1.02-.2 1.41-.59l7.78-7.78 2.81-2.81c.8-.78.8-2.07 0-2.86zM5.41 20L4 18.59l7.72-7.72 1.47 1.35L5.41 20z\"/>\n",
              "  </svg>\n",
              "      </button>\n",
              "      \n",
              "  <style>\n",
              "    .colab-df-container {\n",
              "      display:flex;\n",
              "      flex-wrap:wrap;\n",
              "      gap: 12px;\n",
              "    }\n",
              "\n",
              "    .colab-df-convert {\n",
              "      background-color: #E8F0FE;\n",
              "      border: none;\n",
              "      border-radius: 50%;\n",
              "      cursor: pointer;\n",
              "      display: none;\n",
              "      fill: #1967D2;\n",
              "      height: 32px;\n",
              "      padding: 0 0 0 0;\n",
              "      width: 32px;\n",
              "    }\n",
              "\n",
              "    .colab-df-convert:hover {\n",
              "      background-color: #E2EBFA;\n",
              "      box-shadow: 0px 1px 2px rgba(60, 64, 67, 0.3), 0px 1px 3px 1px rgba(60, 64, 67, 0.15);\n",
              "      fill: #174EA6;\n",
              "    }\n",
              "\n",
              "    [theme=dark] .colab-df-convert {\n",
              "      background-color: #3B4455;\n",
              "      fill: #D2E3FC;\n",
              "    }\n",
              "\n",
              "    [theme=dark] .colab-df-convert:hover {\n",
              "      background-color: #434B5C;\n",
              "      box-shadow: 0px 1px 3px 1px rgba(0, 0, 0, 0.15);\n",
              "      filter: drop-shadow(0px 1px 2px rgba(0, 0, 0, 0.3));\n",
              "      fill: #FFFFFF;\n",
              "    }\n",
              "  </style>\n",
              "\n",
              "      <script>\n",
              "        const buttonEl =\n",
              "          document.querySelector('#df-9b1e5d43-ee7c-4d8c-9aef-6c9dd2a3fdd6 button.colab-df-convert');\n",
              "        buttonEl.style.display =\n",
              "          google.colab.kernel.accessAllowed ? 'block' : 'none';\n",
              "\n",
              "        async function convertToInteractive(key) {\n",
              "          const element = document.querySelector('#df-9b1e5d43-ee7c-4d8c-9aef-6c9dd2a3fdd6');\n",
              "          const dataTable =\n",
              "            await google.colab.kernel.invokeFunction('convertToInteractive',\n",
              "                                                     [key], {});\n",
              "          if (!dataTable) return;\n",
              "\n",
              "          const docLinkHtml = 'Like what you see? Visit the ' +\n",
              "            '<a target=\"_blank\" href=https://colab.research.google.com/notebooks/data_table.ipynb>data table notebook</a>'\n",
              "            + ' to learn more about interactive tables.';\n",
              "          element.innerHTML = '';\n",
              "          dataTable['output_type'] = 'display_data';\n",
              "          await google.colab.output.renderOutput(dataTable, element);\n",
              "          const docLink = document.createElement('div');\n",
              "          docLink.innerHTML = docLinkHtml;\n",
              "          element.appendChild(docLink);\n",
              "        }\n",
              "      </script>\n",
              "    </div>\n",
              "  </div>\n",
              "  "
            ]
          },
          "metadata": {},
          "execution_count": 3
        }
      ],
      "source": [
        "# 이전 강좌에서 to_csv로 저장해둔 krx.csv 파일을 pd.read_csv 로 불러옵니다.\n",
        "# krx 파일이 없다면 아래 주석을 제거하고 csv 파일을 로드해 보세요!\n",
        "df = pd.read_csv(\"https://raw.githubusercontent.com/corazzon/finance-data-analysis/main/krx.csv\")\n",
        "df"
      ]
    },
    {
      "cell_type": "markdown",
      "metadata": {
        "id": "o1u1NIHpxcWh"
      },
      "source": [
        "### 일부 데이터만 가져오기\n",
        "\n",
        "{'회사명':'Name', '종목코드':'Symbol', '업종':'Sector', '주요제품':'Industry', \n",
        "                            '상장일':'ListingDate', '결산월':'SettleMonth',  '대표자명':'Representative', \n",
        "                            '홈페이지':'HomePage', '지역':'Region', }"
      ]
    },
    {
      "cell_type": "code",
      "execution_count": 4,
      "metadata": {
        "colab": {
          "base_uri": "https://localhost:8080/",
          "height": 206
        },
        "id": "D7MY82wjxcWh",
        "outputId": "ee6242b8-a8dd-42b9-9fcc-da3299ede53d"
      },
      "outputs": [
        {
          "output_type": "execute_result",
          "data": {
            "text/plain": [
              "   Symbol  Market    Name           Sector             Industry ListingDate  \\\n",
              "0  060310  KOSDAQ      3S    특수 목적용 기계 제조업          반도체 웨이퍼 캐리어  2002-04-23   \n",
              "1  095570   KOSPI  AJ네트웍스  산업용 기계 및 장비 임대업  렌탈(파렛트, OA장비, 건설장비)  2015-08-21   \n",
              "2  006840   KOSPI   AK홀딩스           기타 금융업                 지주사업  1999-08-11   \n",
              "3  054620  KOSDAQ  APS홀딩스           기타 금융업          인터넷 트래픽 솔루션  2001-12-04   \n",
              "4  265520  KOSDAQ   AP시스템    특수 목적용 기계 제조업          디스플레이 제조 장비  2017-04-07   \n",
              "\n",
              "  SettleMonth      Representative                       HomePage Region  \n",
              "0         03월  박종익, 김세완 (각자 대표이사)           http://www.3sref.com  서울특별시  \n",
              "1         12월                 이현우         http://www.ajnet.co.kr  서울특별시  \n",
              "2         12월   채형석, 이석주(각자 대표이사)  http://www.aekyunggroup.co.kr  서울특별시  \n",
              "3         12월                 정기로   http://www.apsholdings.co.kr    경기도  \n",
              "4         12월                 김영주     http://www.apsystems.co.kr    경기도  "
            ],
            "text/html": [
              "\n",
              "  <div id=\"df-8968531a-0445-4b9c-b26d-a06fed16a4fa\">\n",
              "    <div class=\"colab-df-container\">\n",
              "      <div>\n",
              "<style scoped>\n",
              "    .dataframe tbody tr th:only-of-type {\n",
              "        vertical-align: middle;\n",
              "    }\n",
              "\n",
              "    .dataframe tbody tr th {\n",
              "        vertical-align: top;\n",
              "    }\n",
              "\n",
              "    .dataframe thead th {\n",
              "        text-align: right;\n",
              "    }\n",
              "</style>\n",
              "<table border=\"1\" class=\"dataframe\">\n",
              "  <thead>\n",
              "    <tr style=\"text-align: right;\">\n",
              "      <th></th>\n",
              "      <th>Symbol</th>\n",
              "      <th>Market</th>\n",
              "      <th>Name</th>\n",
              "      <th>Sector</th>\n",
              "      <th>Industry</th>\n",
              "      <th>ListingDate</th>\n",
              "      <th>SettleMonth</th>\n",
              "      <th>Representative</th>\n",
              "      <th>HomePage</th>\n",
              "      <th>Region</th>\n",
              "    </tr>\n",
              "  </thead>\n",
              "  <tbody>\n",
              "    <tr>\n",
              "      <th>0</th>\n",
              "      <td>060310</td>\n",
              "      <td>KOSDAQ</td>\n",
              "      <td>3S</td>\n",
              "      <td>특수 목적용 기계 제조업</td>\n",
              "      <td>반도체 웨이퍼 캐리어</td>\n",
              "      <td>2002-04-23</td>\n",
              "      <td>03월</td>\n",
              "      <td>박종익, 김세완 (각자 대표이사)</td>\n",
              "      <td>http://www.3sref.com</td>\n",
              "      <td>서울특별시</td>\n",
              "    </tr>\n",
              "    <tr>\n",
              "      <th>1</th>\n",
              "      <td>095570</td>\n",
              "      <td>KOSPI</td>\n",
              "      <td>AJ네트웍스</td>\n",
              "      <td>산업용 기계 및 장비 임대업</td>\n",
              "      <td>렌탈(파렛트, OA장비, 건설장비)</td>\n",
              "      <td>2015-08-21</td>\n",
              "      <td>12월</td>\n",
              "      <td>이현우</td>\n",
              "      <td>http://www.ajnet.co.kr</td>\n",
              "      <td>서울특별시</td>\n",
              "    </tr>\n",
              "    <tr>\n",
              "      <th>2</th>\n",
              "      <td>006840</td>\n",
              "      <td>KOSPI</td>\n",
              "      <td>AK홀딩스</td>\n",
              "      <td>기타 금융업</td>\n",
              "      <td>지주사업</td>\n",
              "      <td>1999-08-11</td>\n",
              "      <td>12월</td>\n",
              "      <td>채형석, 이석주(각자 대표이사)</td>\n",
              "      <td>http://www.aekyunggroup.co.kr</td>\n",
              "      <td>서울특별시</td>\n",
              "    </tr>\n",
              "    <tr>\n",
              "      <th>3</th>\n",
              "      <td>054620</td>\n",
              "      <td>KOSDAQ</td>\n",
              "      <td>APS홀딩스</td>\n",
              "      <td>기타 금융업</td>\n",
              "      <td>인터넷 트래픽 솔루션</td>\n",
              "      <td>2001-12-04</td>\n",
              "      <td>12월</td>\n",
              "      <td>정기로</td>\n",
              "      <td>http://www.apsholdings.co.kr</td>\n",
              "      <td>경기도</td>\n",
              "    </tr>\n",
              "    <tr>\n",
              "      <th>4</th>\n",
              "      <td>265520</td>\n",
              "      <td>KOSDAQ</td>\n",
              "      <td>AP시스템</td>\n",
              "      <td>특수 목적용 기계 제조업</td>\n",
              "      <td>디스플레이 제조 장비</td>\n",
              "      <td>2017-04-07</td>\n",
              "      <td>12월</td>\n",
              "      <td>김영주</td>\n",
              "      <td>http://www.apsystems.co.kr</td>\n",
              "      <td>경기도</td>\n",
              "    </tr>\n",
              "  </tbody>\n",
              "</table>\n",
              "</div>\n",
              "      <button class=\"colab-df-convert\" onclick=\"convertToInteractive('df-8968531a-0445-4b9c-b26d-a06fed16a4fa')\"\n",
              "              title=\"Convert this dataframe to an interactive table.\"\n",
              "              style=\"display:none;\">\n",
              "        \n",
              "  <svg xmlns=\"http://www.w3.org/2000/svg\" height=\"24px\"viewBox=\"0 0 24 24\"\n",
              "       width=\"24px\">\n",
              "    <path d=\"M0 0h24v24H0V0z\" fill=\"none\"/>\n",
              "    <path d=\"M18.56 5.44l.94 2.06.94-2.06 2.06-.94-2.06-.94-.94-2.06-.94 2.06-2.06.94zm-11 1L8.5 8.5l.94-2.06 2.06-.94-2.06-.94L8.5 2.5l-.94 2.06-2.06.94zm10 10l.94 2.06.94-2.06 2.06-.94-2.06-.94-.94-2.06-.94 2.06-2.06.94z\"/><path d=\"M17.41 7.96l-1.37-1.37c-.4-.4-.92-.59-1.43-.59-.52 0-1.04.2-1.43.59L10.3 9.45l-7.72 7.72c-.78.78-.78 2.05 0 2.83L4 21.41c.39.39.9.59 1.41.59.51 0 1.02-.2 1.41-.59l7.78-7.78 2.81-2.81c.8-.78.8-2.07 0-2.86zM5.41 20L4 18.59l7.72-7.72 1.47 1.35L5.41 20z\"/>\n",
              "  </svg>\n",
              "      </button>\n",
              "      \n",
              "  <style>\n",
              "    .colab-df-container {\n",
              "      display:flex;\n",
              "      flex-wrap:wrap;\n",
              "      gap: 12px;\n",
              "    }\n",
              "\n",
              "    .colab-df-convert {\n",
              "      background-color: #E8F0FE;\n",
              "      border: none;\n",
              "      border-radius: 50%;\n",
              "      cursor: pointer;\n",
              "      display: none;\n",
              "      fill: #1967D2;\n",
              "      height: 32px;\n",
              "      padding: 0 0 0 0;\n",
              "      width: 32px;\n",
              "    }\n",
              "\n",
              "    .colab-df-convert:hover {\n",
              "      background-color: #E2EBFA;\n",
              "      box-shadow: 0px 1px 2px rgba(60, 64, 67, 0.3), 0px 1px 3px 1px rgba(60, 64, 67, 0.15);\n",
              "      fill: #174EA6;\n",
              "    }\n",
              "\n",
              "    [theme=dark] .colab-df-convert {\n",
              "      background-color: #3B4455;\n",
              "      fill: #D2E3FC;\n",
              "    }\n",
              "\n",
              "    [theme=dark] .colab-df-convert:hover {\n",
              "      background-color: #434B5C;\n",
              "      box-shadow: 0px 1px 3px 1px rgba(0, 0, 0, 0.15);\n",
              "      filter: drop-shadow(0px 1px 2px rgba(0, 0, 0, 0.3));\n",
              "      fill: #FFFFFF;\n",
              "    }\n",
              "  </style>\n",
              "\n",
              "      <script>\n",
              "        const buttonEl =\n",
              "          document.querySelector('#df-8968531a-0445-4b9c-b26d-a06fed16a4fa button.colab-df-convert');\n",
              "        buttonEl.style.display =\n",
              "          google.colab.kernel.accessAllowed ? 'block' : 'none';\n",
              "\n",
              "        async function convertToInteractive(key) {\n",
              "          const element = document.querySelector('#df-8968531a-0445-4b9c-b26d-a06fed16a4fa');\n",
              "          const dataTable =\n",
              "            await google.colab.kernel.invokeFunction('convertToInteractive',\n",
              "                                                     [key], {});\n",
              "          if (!dataTable) return;\n",
              "\n",
              "          const docLinkHtml = 'Like what you see? Visit the ' +\n",
              "            '<a target=\"_blank\" href=https://colab.research.google.com/notebooks/data_table.ipynb>data table notebook</a>'\n",
              "            + ' to learn more about interactive tables.';\n",
              "          element.innerHTML = '';\n",
              "          dataTable['output_type'] = 'display_data';\n",
              "          await google.colab.output.renderOutput(dataTable, element);\n",
              "          const docLink = document.createElement('div');\n",
              "          docLink.innerHTML = docLinkHtml;\n",
              "          element.appendChild(docLink);\n",
              "        }\n",
              "      </script>\n",
              "    </div>\n",
              "  </div>\n",
              "  "
            ]
          },
          "metadata": {},
          "execution_count": 4
        }
      ],
      "source": [
        "# head 로 위에 있는 데이터 일부만 가져옵니다.\n",
        "df.head()"
      ]
    },
    {
      "cell_type": "code",
      "execution_count": 5,
      "metadata": {
        "colab": {
          "base_uri": "https://localhost:8080/",
          "height": 250
        },
        "id": "bc_8ox-HxcWi",
        "outputId": "67705d42-7e25-49d6-e428-fd6a4b82bd41"
      },
      "outputs": [
        {
          "output_type": "execute_result",
          "data": {
            "text/plain": [
              "      Symbol  Market     Name                    Sector  \\\n",
              "2607  000547   KOSPI  흥국화재2우B                       NaN   \n",
              "2608  000545   KOSPI    흥국화재우                       NaN   \n",
              "2609  003280   KOSPI     흥아해운                    해상 운송업   \n",
              "2610  037440  KOSDAQ       희림  건축기술, 엔지니어링 및 관련 기술 서비스업   \n",
              "2611  238490  KOSDAQ       힘스             특수 목적용 기계 제조업   \n",
              "\n",
              "                            Industry ListingDate SettleMonth  \\\n",
              "2607                             NaN         NaN         NaN   \n",
              "2608                             NaN         NaN         NaN   \n",
              "2609                  외항화물운송업(케미컬탱커)  1976-06-29         12월   \n",
              "2610                       설계 및 감리용역  2000-02-03         12월   \n",
              "2611  OLED Mask 인장기, OLED Mask 검사기 등  2017-07-20         12월   \n",
              "\n",
              "                 Representative                HomePage Region  \n",
              "2607                        NaN                     NaN    NaN  \n",
              "2608                        NaN                     NaN    NaN  \n",
              "2609                        이환구  http://www.heung-a.com  서울특별시  \n",
              "2610  정영균, 이목운, 허철호, 염두성 (각자대표)   http://www.heerim.com  서울특별시  \n",
              "2611                        김주환   http://www.hims.co.kr  인천광역시  "
            ],
            "text/html": [
              "\n",
              "  <div id=\"df-f858923a-652e-40cc-a6a4-b3e2a25f3ef0\">\n",
              "    <div class=\"colab-df-container\">\n",
              "      <div>\n",
              "<style scoped>\n",
              "    .dataframe tbody tr th:only-of-type {\n",
              "        vertical-align: middle;\n",
              "    }\n",
              "\n",
              "    .dataframe tbody tr th {\n",
              "        vertical-align: top;\n",
              "    }\n",
              "\n",
              "    .dataframe thead th {\n",
              "        text-align: right;\n",
              "    }\n",
              "</style>\n",
              "<table border=\"1\" class=\"dataframe\">\n",
              "  <thead>\n",
              "    <tr style=\"text-align: right;\">\n",
              "      <th></th>\n",
              "      <th>Symbol</th>\n",
              "      <th>Market</th>\n",
              "      <th>Name</th>\n",
              "      <th>Sector</th>\n",
              "      <th>Industry</th>\n",
              "      <th>ListingDate</th>\n",
              "      <th>SettleMonth</th>\n",
              "      <th>Representative</th>\n",
              "      <th>HomePage</th>\n",
              "      <th>Region</th>\n",
              "    </tr>\n",
              "  </thead>\n",
              "  <tbody>\n",
              "    <tr>\n",
              "      <th>2607</th>\n",
              "      <td>000547</td>\n",
              "      <td>KOSPI</td>\n",
              "      <td>흥국화재2우B</td>\n",
              "      <td>NaN</td>\n",
              "      <td>NaN</td>\n",
              "      <td>NaN</td>\n",
              "      <td>NaN</td>\n",
              "      <td>NaN</td>\n",
              "      <td>NaN</td>\n",
              "      <td>NaN</td>\n",
              "    </tr>\n",
              "    <tr>\n",
              "      <th>2608</th>\n",
              "      <td>000545</td>\n",
              "      <td>KOSPI</td>\n",
              "      <td>흥국화재우</td>\n",
              "      <td>NaN</td>\n",
              "      <td>NaN</td>\n",
              "      <td>NaN</td>\n",
              "      <td>NaN</td>\n",
              "      <td>NaN</td>\n",
              "      <td>NaN</td>\n",
              "      <td>NaN</td>\n",
              "    </tr>\n",
              "    <tr>\n",
              "      <th>2609</th>\n",
              "      <td>003280</td>\n",
              "      <td>KOSPI</td>\n",
              "      <td>흥아해운</td>\n",
              "      <td>해상 운송업</td>\n",
              "      <td>외항화물운송업(케미컬탱커)</td>\n",
              "      <td>1976-06-29</td>\n",
              "      <td>12월</td>\n",
              "      <td>이환구</td>\n",
              "      <td>http://www.heung-a.com</td>\n",
              "      <td>서울특별시</td>\n",
              "    </tr>\n",
              "    <tr>\n",
              "      <th>2610</th>\n",
              "      <td>037440</td>\n",
              "      <td>KOSDAQ</td>\n",
              "      <td>희림</td>\n",
              "      <td>건축기술, 엔지니어링 및 관련 기술 서비스업</td>\n",
              "      <td>설계 및 감리용역</td>\n",
              "      <td>2000-02-03</td>\n",
              "      <td>12월</td>\n",
              "      <td>정영균, 이목운, 허철호, 염두성 (각자대표)</td>\n",
              "      <td>http://www.heerim.com</td>\n",
              "      <td>서울특별시</td>\n",
              "    </tr>\n",
              "    <tr>\n",
              "      <th>2611</th>\n",
              "      <td>238490</td>\n",
              "      <td>KOSDAQ</td>\n",
              "      <td>힘스</td>\n",
              "      <td>특수 목적용 기계 제조업</td>\n",
              "      <td>OLED Mask 인장기, OLED Mask 검사기 등</td>\n",
              "      <td>2017-07-20</td>\n",
              "      <td>12월</td>\n",
              "      <td>김주환</td>\n",
              "      <td>http://www.hims.co.kr</td>\n",
              "      <td>인천광역시</td>\n",
              "    </tr>\n",
              "  </tbody>\n",
              "</table>\n",
              "</div>\n",
              "      <button class=\"colab-df-convert\" onclick=\"convertToInteractive('df-f858923a-652e-40cc-a6a4-b3e2a25f3ef0')\"\n",
              "              title=\"Convert this dataframe to an interactive table.\"\n",
              "              style=\"display:none;\">\n",
              "        \n",
              "  <svg xmlns=\"http://www.w3.org/2000/svg\" height=\"24px\"viewBox=\"0 0 24 24\"\n",
              "       width=\"24px\">\n",
              "    <path d=\"M0 0h24v24H0V0z\" fill=\"none\"/>\n",
              "    <path d=\"M18.56 5.44l.94 2.06.94-2.06 2.06-.94-2.06-.94-.94-2.06-.94 2.06-2.06.94zm-11 1L8.5 8.5l.94-2.06 2.06-.94-2.06-.94L8.5 2.5l-.94 2.06-2.06.94zm10 10l.94 2.06.94-2.06 2.06-.94-2.06-.94-.94-2.06-.94 2.06-2.06.94z\"/><path d=\"M17.41 7.96l-1.37-1.37c-.4-.4-.92-.59-1.43-.59-.52 0-1.04.2-1.43.59L10.3 9.45l-7.72 7.72c-.78.78-.78 2.05 0 2.83L4 21.41c.39.39.9.59 1.41.59.51 0 1.02-.2 1.41-.59l7.78-7.78 2.81-2.81c.8-.78.8-2.07 0-2.86zM5.41 20L4 18.59l7.72-7.72 1.47 1.35L5.41 20z\"/>\n",
              "  </svg>\n",
              "      </button>\n",
              "      \n",
              "  <style>\n",
              "    .colab-df-container {\n",
              "      display:flex;\n",
              "      flex-wrap:wrap;\n",
              "      gap: 12px;\n",
              "    }\n",
              "\n",
              "    .colab-df-convert {\n",
              "      background-color: #E8F0FE;\n",
              "      border: none;\n",
              "      border-radius: 50%;\n",
              "      cursor: pointer;\n",
              "      display: none;\n",
              "      fill: #1967D2;\n",
              "      height: 32px;\n",
              "      padding: 0 0 0 0;\n",
              "      width: 32px;\n",
              "    }\n",
              "\n",
              "    .colab-df-convert:hover {\n",
              "      background-color: #E2EBFA;\n",
              "      box-shadow: 0px 1px 2px rgba(60, 64, 67, 0.3), 0px 1px 3px 1px rgba(60, 64, 67, 0.15);\n",
              "      fill: #174EA6;\n",
              "    }\n",
              "\n",
              "    [theme=dark] .colab-df-convert {\n",
              "      background-color: #3B4455;\n",
              "      fill: #D2E3FC;\n",
              "    }\n",
              "\n",
              "    [theme=dark] .colab-df-convert:hover {\n",
              "      background-color: #434B5C;\n",
              "      box-shadow: 0px 1px 3px 1px rgba(0, 0, 0, 0.15);\n",
              "      filter: drop-shadow(0px 1px 2px rgba(0, 0, 0, 0.3));\n",
              "      fill: #FFFFFF;\n",
              "    }\n",
              "  </style>\n",
              "\n",
              "      <script>\n",
              "        const buttonEl =\n",
              "          document.querySelector('#df-f858923a-652e-40cc-a6a4-b3e2a25f3ef0 button.colab-df-convert');\n",
              "        buttonEl.style.display =\n",
              "          google.colab.kernel.accessAllowed ? 'block' : 'none';\n",
              "\n",
              "        async function convertToInteractive(key) {\n",
              "          const element = document.querySelector('#df-f858923a-652e-40cc-a6a4-b3e2a25f3ef0');\n",
              "          const dataTable =\n",
              "            await google.colab.kernel.invokeFunction('convertToInteractive',\n",
              "                                                     [key], {});\n",
              "          if (!dataTable) return;\n",
              "\n",
              "          const docLinkHtml = 'Like what you see? Visit the ' +\n",
              "            '<a target=\"_blank\" href=https://colab.research.google.com/notebooks/data_table.ipynb>data table notebook</a>'\n",
              "            + ' to learn more about interactive tables.';\n",
              "          element.innerHTML = '';\n",
              "          dataTable['output_type'] = 'display_data';\n",
              "          await google.colab.output.renderOutput(dataTable, element);\n",
              "          const docLink = document.createElement('div');\n",
              "          docLink.innerHTML = docLinkHtml;\n",
              "          element.appendChild(docLink);\n",
              "        }\n",
              "      </script>\n",
              "    </div>\n",
              "  </div>\n",
              "  "
            ]
          },
          "metadata": {},
          "execution_count": 5
        }
      ],
      "source": [
        "# tail 로 아래 있는 데이터 일부만 가져옵니다.\n",
        "df.tail()"
      ]
    },
    {
      "cell_type": "code",
      "execution_count": 6,
      "metadata": {
        "colab": {
          "base_uri": "https://localhost:8080/",
          "height": 81
        },
        "id": "tW5wAPEkxcWi",
        "outputId": "7017f9a6-140f-456f-f123-471d16b2b054"
      },
      "outputs": [
        {
          "output_type": "execute_result",
          "data": {
            "text/plain": [
              "      Symbol  Market  Name       Sector                     Industry  \\\n",
              "1136  357780  KOSDAQ  솔브레인  기타 화학제품 제조업  반도체 및 디스플레이 관련 화학재료 제조ㆍ판매 등   \n",
              "\n",
              "     ListingDate SettleMonth Representative                    HomePage Region  \n",
              "1136  2020-08-06         12월            강병창  http://www.soulbrain.co.kr    경기도  "
            ],
            "text/html": [
              "\n",
              "  <div id=\"df-e67942b5-4e03-407a-8db5-f567f0020aca\">\n",
              "    <div class=\"colab-df-container\">\n",
              "      <div>\n",
              "<style scoped>\n",
              "    .dataframe tbody tr th:only-of-type {\n",
              "        vertical-align: middle;\n",
              "    }\n",
              "\n",
              "    .dataframe tbody tr th {\n",
              "        vertical-align: top;\n",
              "    }\n",
              "\n",
              "    .dataframe thead th {\n",
              "        text-align: right;\n",
              "    }\n",
              "</style>\n",
              "<table border=\"1\" class=\"dataframe\">\n",
              "  <thead>\n",
              "    <tr style=\"text-align: right;\">\n",
              "      <th></th>\n",
              "      <th>Symbol</th>\n",
              "      <th>Market</th>\n",
              "      <th>Name</th>\n",
              "      <th>Sector</th>\n",
              "      <th>Industry</th>\n",
              "      <th>ListingDate</th>\n",
              "      <th>SettleMonth</th>\n",
              "      <th>Representative</th>\n",
              "      <th>HomePage</th>\n",
              "      <th>Region</th>\n",
              "    </tr>\n",
              "  </thead>\n",
              "  <tbody>\n",
              "    <tr>\n",
              "      <th>1136</th>\n",
              "      <td>357780</td>\n",
              "      <td>KOSDAQ</td>\n",
              "      <td>솔브레인</td>\n",
              "      <td>기타 화학제품 제조업</td>\n",
              "      <td>반도체 및 디스플레이 관련 화학재료 제조ㆍ판매 등</td>\n",
              "      <td>2020-08-06</td>\n",
              "      <td>12월</td>\n",
              "      <td>강병창</td>\n",
              "      <td>http://www.soulbrain.co.kr</td>\n",
              "      <td>경기도</td>\n",
              "    </tr>\n",
              "  </tbody>\n",
              "</table>\n",
              "</div>\n",
              "      <button class=\"colab-df-convert\" onclick=\"convertToInteractive('df-e67942b5-4e03-407a-8db5-f567f0020aca')\"\n",
              "              title=\"Convert this dataframe to an interactive table.\"\n",
              "              style=\"display:none;\">\n",
              "        \n",
              "  <svg xmlns=\"http://www.w3.org/2000/svg\" height=\"24px\"viewBox=\"0 0 24 24\"\n",
              "       width=\"24px\">\n",
              "    <path d=\"M0 0h24v24H0V0z\" fill=\"none\"/>\n",
              "    <path d=\"M18.56 5.44l.94 2.06.94-2.06 2.06-.94-2.06-.94-.94-2.06-.94 2.06-2.06.94zm-11 1L8.5 8.5l.94-2.06 2.06-.94-2.06-.94L8.5 2.5l-.94 2.06-2.06.94zm10 10l.94 2.06.94-2.06 2.06-.94-2.06-.94-.94-2.06-.94 2.06-2.06.94z\"/><path d=\"M17.41 7.96l-1.37-1.37c-.4-.4-.92-.59-1.43-.59-.52 0-1.04.2-1.43.59L10.3 9.45l-7.72 7.72c-.78.78-.78 2.05 0 2.83L4 21.41c.39.39.9.59 1.41.59.51 0 1.02-.2 1.41-.59l7.78-7.78 2.81-2.81c.8-.78.8-2.07 0-2.86zM5.41 20L4 18.59l7.72-7.72 1.47 1.35L5.41 20z\"/>\n",
              "  </svg>\n",
              "      </button>\n",
              "      \n",
              "  <style>\n",
              "    .colab-df-container {\n",
              "      display:flex;\n",
              "      flex-wrap:wrap;\n",
              "      gap: 12px;\n",
              "    }\n",
              "\n",
              "    .colab-df-convert {\n",
              "      background-color: #E8F0FE;\n",
              "      border: none;\n",
              "      border-radius: 50%;\n",
              "      cursor: pointer;\n",
              "      display: none;\n",
              "      fill: #1967D2;\n",
              "      height: 32px;\n",
              "      padding: 0 0 0 0;\n",
              "      width: 32px;\n",
              "    }\n",
              "\n",
              "    .colab-df-convert:hover {\n",
              "      background-color: #E2EBFA;\n",
              "      box-shadow: 0px 1px 2px rgba(60, 64, 67, 0.3), 0px 1px 3px 1px rgba(60, 64, 67, 0.15);\n",
              "      fill: #174EA6;\n",
              "    }\n",
              "\n",
              "    [theme=dark] .colab-df-convert {\n",
              "      background-color: #3B4455;\n",
              "      fill: #D2E3FC;\n",
              "    }\n",
              "\n",
              "    [theme=dark] .colab-df-convert:hover {\n",
              "      background-color: #434B5C;\n",
              "      box-shadow: 0px 1px 3px 1px rgba(0, 0, 0, 0.15);\n",
              "      filter: drop-shadow(0px 1px 2px rgba(0, 0, 0, 0.3));\n",
              "      fill: #FFFFFF;\n",
              "    }\n",
              "  </style>\n",
              "\n",
              "      <script>\n",
              "        const buttonEl =\n",
              "          document.querySelector('#df-e67942b5-4e03-407a-8db5-f567f0020aca button.colab-df-convert');\n",
              "        buttonEl.style.display =\n",
              "          google.colab.kernel.accessAllowed ? 'block' : 'none';\n",
              "\n",
              "        async function convertToInteractive(key) {\n",
              "          const element = document.querySelector('#df-e67942b5-4e03-407a-8db5-f567f0020aca');\n",
              "          const dataTable =\n",
              "            await google.colab.kernel.invokeFunction('convertToInteractive',\n",
              "                                                     [key], {});\n",
              "          if (!dataTable) return;\n",
              "\n",
              "          const docLinkHtml = 'Like what you see? Visit the ' +\n",
              "            '<a target=\"_blank\" href=https://colab.research.google.com/notebooks/data_table.ipynb>data table notebook</a>'\n",
              "            + ' to learn more about interactive tables.';\n",
              "          element.innerHTML = '';\n",
              "          dataTable['output_type'] = 'display_data';\n",
              "          await google.colab.output.renderOutput(dataTable, element);\n",
              "          const docLink = document.createElement('div');\n",
              "          docLink.innerHTML = docLinkHtml;\n",
              "          element.appendChild(docLink);\n",
              "        }\n",
              "      </script>\n",
              "    </div>\n",
              "  </div>\n",
              "  "
            ]
          },
          "metadata": {},
          "execution_count": 6
        }
      ],
      "source": [
        "# sample을 사용하면 랜덤하게 ()안의 갯수만큼 가져옵니다. \n",
        "# ()안에 값을 써주지 않으면 한 개만 가져옵니다.\n",
        "df.sample()"
      ]
    },
    {
      "cell_type": "markdown",
      "metadata": {
        "id": "yoXeVg7qxcWi"
      },
      "source": [
        "## 데이터 요약하기"
      ]
    },
    {
      "cell_type": "code",
      "execution_count": 7,
      "metadata": {
        "colab": {
          "base_uri": "https://localhost:8080/"
        },
        "id": "SW7wlKoExcWi",
        "outputId": "fb234d6d-0599-4711-f641-283b83151e9f"
      },
      "outputs": [
        {
          "output_type": "stream",
          "name": "stdout",
          "text": [
            "<class 'pandas.core.frame.DataFrame'>\n",
            "RangeIndex: 2612 entries, 0 to 2611\n",
            "Data columns (total 10 columns):\n",
            " #   Column          Non-Null Count  Dtype \n",
            "---  ------          --------------  ----- \n",
            " 0   Symbol          2612 non-null   object\n",
            " 1   Market          2612 non-null   object\n",
            " 2   Name            2612 non-null   object\n",
            " 3   Sector          2411 non-null   object\n",
            " 4   Industry        2391 non-null   object\n",
            " 5   ListingDate     2411 non-null   object\n",
            " 6   SettleMonth     2411 non-null   object\n",
            " 7   Representative  2411 non-null   object\n",
            " 8   HomePage        2238 non-null   object\n",
            " 9   Region          2411 non-null   object\n",
            "dtypes: object(10)\n",
            "memory usage: 204.2+ KB\n"
          ]
        }
      ],
      "source": [
        "# info 로 요약 데이터를 봅니다.\n",
        "df.info()"
      ]
    },
    {
      "cell_type": "code",
      "execution_count": 8,
      "metadata": {
        "colab": {
          "base_uri": "https://localhost:8080/",
          "height": 175
        },
        "id": "NF_RD1_DxcWj",
        "outputId": "d65e3f9e-0ab4-4948-863c-d3471f738da5"
      },
      "outputs": [
        {
          "output_type": "execute_result",
          "data": {
            "text/plain": [
              "        Symbol  Market  Name         Sector Industry ListingDate SettleMonth  \\\n",
              "count     2612    2612  2612           2411     2391        2411        2411   \n",
              "unique    2612       3  2612            158     2240        1777           9   \n",
              "top     060310  KOSDAQ    3S  특수 목적용 기계 제조업   기업인수합병  1976-06-30         12월   \n",
              "freq         1    1471     1            141       37           8        2351   \n",
              "\n",
              "       Representative              HomePage Region  \n",
              "count            2411                  2238   2411  \n",
              "unique           2298                  2217     21  \n",
              "top               김상우  http://www.woory.com  서울특별시  \n",
              "freq                4                     2    969  "
            ],
            "text/html": [
              "\n",
              "  <div id=\"df-001814c0-0db3-4b30-9caa-30325068c966\">\n",
              "    <div class=\"colab-df-container\">\n",
              "      <div>\n",
              "<style scoped>\n",
              "    .dataframe tbody tr th:only-of-type {\n",
              "        vertical-align: middle;\n",
              "    }\n",
              "\n",
              "    .dataframe tbody tr th {\n",
              "        vertical-align: top;\n",
              "    }\n",
              "\n",
              "    .dataframe thead th {\n",
              "        text-align: right;\n",
              "    }\n",
              "</style>\n",
              "<table border=\"1\" class=\"dataframe\">\n",
              "  <thead>\n",
              "    <tr style=\"text-align: right;\">\n",
              "      <th></th>\n",
              "      <th>Symbol</th>\n",
              "      <th>Market</th>\n",
              "      <th>Name</th>\n",
              "      <th>Sector</th>\n",
              "      <th>Industry</th>\n",
              "      <th>ListingDate</th>\n",
              "      <th>SettleMonth</th>\n",
              "      <th>Representative</th>\n",
              "      <th>HomePage</th>\n",
              "      <th>Region</th>\n",
              "    </tr>\n",
              "  </thead>\n",
              "  <tbody>\n",
              "    <tr>\n",
              "      <th>count</th>\n",
              "      <td>2612</td>\n",
              "      <td>2612</td>\n",
              "      <td>2612</td>\n",
              "      <td>2411</td>\n",
              "      <td>2391</td>\n",
              "      <td>2411</td>\n",
              "      <td>2411</td>\n",
              "      <td>2411</td>\n",
              "      <td>2238</td>\n",
              "      <td>2411</td>\n",
              "    </tr>\n",
              "    <tr>\n",
              "      <th>unique</th>\n",
              "      <td>2612</td>\n",
              "      <td>3</td>\n",
              "      <td>2612</td>\n",
              "      <td>158</td>\n",
              "      <td>2240</td>\n",
              "      <td>1777</td>\n",
              "      <td>9</td>\n",
              "      <td>2298</td>\n",
              "      <td>2217</td>\n",
              "      <td>21</td>\n",
              "    </tr>\n",
              "    <tr>\n",
              "      <th>top</th>\n",
              "      <td>060310</td>\n",
              "      <td>KOSDAQ</td>\n",
              "      <td>3S</td>\n",
              "      <td>특수 목적용 기계 제조업</td>\n",
              "      <td>기업인수합병</td>\n",
              "      <td>1976-06-30</td>\n",
              "      <td>12월</td>\n",
              "      <td>김상우</td>\n",
              "      <td>http://www.woory.com</td>\n",
              "      <td>서울특별시</td>\n",
              "    </tr>\n",
              "    <tr>\n",
              "      <th>freq</th>\n",
              "      <td>1</td>\n",
              "      <td>1471</td>\n",
              "      <td>1</td>\n",
              "      <td>141</td>\n",
              "      <td>37</td>\n",
              "      <td>8</td>\n",
              "      <td>2351</td>\n",
              "      <td>4</td>\n",
              "      <td>2</td>\n",
              "      <td>969</td>\n",
              "    </tr>\n",
              "  </tbody>\n",
              "</table>\n",
              "</div>\n",
              "      <button class=\"colab-df-convert\" onclick=\"convertToInteractive('df-001814c0-0db3-4b30-9caa-30325068c966')\"\n",
              "              title=\"Convert this dataframe to an interactive table.\"\n",
              "              style=\"display:none;\">\n",
              "        \n",
              "  <svg xmlns=\"http://www.w3.org/2000/svg\" height=\"24px\"viewBox=\"0 0 24 24\"\n",
              "       width=\"24px\">\n",
              "    <path d=\"M0 0h24v24H0V0z\" fill=\"none\"/>\n",
              "    <path d=\"M18.56 5.44l.94 2.06.94-2.06 2.06-.94-2.06-.94-.94-2.06-.94 2.06-2.06.94zm-11 1L8.5 8.5l.94-2.06 2.06-.94-2.06-.94L8.5 2.5l-.94 2.06-2.06.94zm10 10l.94 2.06.94-2.06 2.06-.94-2.06-.94-.94-2.06-.94 2.06-2.06.94z\"/><path d=\"M17.41 7.96l-1.37-1.37c-.4-.4-.92-.59-1.43-.59-.52 0-1.04.2-1.43.59L10.3 9.45l-7.72 7.72c-.78.78-.78 2.05 0 2.83L4 21.41c.39.39.9.59 1.41.59.51 0 1.02-.2 1.41-.59l7.78-7.78 2.81-2.81c.8-.78.8-2.07 0-2.86zM5.41 20L4 18.59l7.72-7.72 1.47 1.35L5.41 20z\"/>\n",
              "  </svg>\n",
              "      </button>\n",
              "      \n",
              "  <style>\n",
              "    .colab-df-container {\n",
              "      display:flex;\n",
              "      flex-wrap:wrap;\n",
              "      gap: 12px;\n",
              "    }\n",
              "\n",
              "    .colab-df-convert {\n",
              "      background-color: #E8F0FE;\n",
              "      border: none;\n",
              "      border-radius: 50%;\n",
              "      cursor: pointer;\n",
              "      display: none;\n",
              "      fill: #1967D2;\n",
              "      height: 32px;\n",
              "      padding: 0 0 0 0;\n",
              "      width: 32px;\n",
              "    }\n",
              "\n",
              "    .colab-df-convert:hover {\n",
              "      background-color: #E2EBFA;\n",
              "      box-shadow: 0px 1px 2px rgba(60, 64, 67, 0.3), 0px 1px 3px 1px rgba(60, 64, 67, 0.15);\n",
              "      fill: #174EA6;\n",
              "    }\n",
              "\n",
              "    [theme=dark] .colab-df-convert {\n",
              "      background-color: #3B4455;\n",
              "      fill: #D2E3FC;\n",
              "    }\n",
              "\n",
              "    [theme=dark] .colab-df-convert:hover {\n",
              "      background-color: #434B5C;\n",
              "      box-shadow: 0px 1px 3px 1px rgba(0, 0, 0, 0.15);\n",
              "      filter: drop-shadow(0px 1px 2px rgba(0, 0, 0, 0.3));\n",
              "      fill: #FFFFFF;\n",
              "    }\n",
              "  </style>\n",
              "\n",
              "      <script>\n",
              "        const buttonEl =\n",
              "          document.querySelector('#df-001814c0-0db3-4b30-9caa-30325068c966 button.colab-df-convert');\n",
              "        buttonEl.style.display =\n",
              "          google.colab.kernel.accessAllowed ? 'block' : 'none';\n",
              "\n",
              "        async function convertToInteractive(key) {\n",
              "          const element = document.querySelector('#df-001814c0-0db3-4b30-9caa-30325068c966');\n",
              "          const dataTable =\n",
              "            await google.colab.kernel.invokeFunction('convertToInteractive',\n",
              "                                                     [key], {});\n",
              "          if (!dataTable) return;\n",
              "\n",
              "          const docLinkHtml = 'Like what you see? Visit the ' +\n",
              "            '<a target=\"_blank\" href=https://colab.research.google.com/notebooks/data_table.ipynb>data table notebook</a>'\n",
              "            + ' to learn more about interactive tables.';\n",
              "          element.innerHTML = '';\n",
              "          dataTable['output_type'] = 'display_data';\n",
              "          await google.colab.output.renderOutput(dataTable, element);\n",
              "          const docLink = document.createElement('div');\n",
              "          docLink.innerHTML = docLinkHtml;\n",
              "          element.appendChild(docLink);\n",
              "        }\n",
              "      </script>\n",
              "    </div>\n",
              "  </div>\n",
              "  "
            ]
          },
          "metadata": {},
          "execution_count": 8
        }
      ],
      "source": [
        "# describe 로 기술통계값을 봅니다.\n",
        "df.describe()"
      ]
    },
    {
      "cell_type": "code",
      "execution_count": 9,
      "metadata": {
        "colab": {
          "base_uri": "https://localhost:8080/"
        },
        "id": "2Ns7cQ_cxcWj",
        "outputId": "2d98df6d-624c-43c6-f63a-5f126ff8f11b"
      },
      "outputs": [
        {
          "output_type": "execute_result",
          "data": {
            "text/plain": [
              "Symbol            2612\n",
              "Market               3\n",
              "Name              2612\n",
              "Sector             158\n",
              "Industry          2240\n",
              "ListingDate       1777\n",
              "SettleMonth          9\n",
              "Representative    2298\n",
              "HomePage          2217\n",
              "Region              21\n",
              "dtype: int64"
            ]
          },
          "metadata": {},
          "execution_count": 9
        }
      ],
      "source": [
        "# 중복을 제외한 unique 값의 갯수를 봅니다.\n",
        "df.nunique()"
      ]
    },
    {
      "cell_type": "code",
      "execution_count": 10,
      "metadata": {
        "colab": {
          "base_uri": "https://localhost:8080/"
        },
        "id": "Y-fltuAaxcWj",
        "outputId": "1a92dda7-1cca-424f-8095-cebbeba54d41"
      },
      "outputs": [
        {
          "output_type": "execute_result",
          "data": {
            "text/plain": [
              "(2612, 10)"
            ]
          },
          "metadata": {},
          "execution_count": 10
        }
      ],
      "source": [
        "df.shape"
      ]
    },
    {
      "cell_type": "code",
      "execution_count": 11,
      "metadata": {
        "scrolled": true,
        "colab": {
          "base_uri": "https://localhost:8080/"
        },
        "id": "e35KNkddxcWj",
        "outputId": "8f88cdc6-79e9-490d-bb16-a9c352b136b7"
      },
      "outputs": [
        {
          "output_type": "execute_result",
          "data": {
            "text/plain": [
              "RangeIndex(start=0, stop=2612, step=1)"
            ]
          },
          "metadata": {},
          "execution_count": 11
        }
      ],
      "source": [
        "# index 값 보기\n",
        "df.index"
      ]
    },
    {
      "cell_type": "code",
      "execution_count": 12,
      "metadata": {
        "colab": {
          "base_uri": "https://localhost:8080/"
        },
        "id": "yWW33FkLxcWj",
        "outputId": "bd956a66-63eb-4075-974a-f004424d4abd"
      },
      "outputs": [
        {
          "output_type": "execute_result",
          "data": {
            "text/plain": [
              "Index(['Symbol', 'Market', 'Name', 'Sector', 'Industry', 'ListingDate',\n",
              "       'SettleMonth', 'Representative', 'HomePage', 'Region'],\n",
              "      dtype='object')"
            ]
          },
          "metadata": {},
          "execution_count": 12
        }
      ],
      "source": [
        "# 컬럼값 보기\n",
        "df.columns"
      ]
    },
    {
      "cell_type": "code",
      "execution_count": 13,
      "metadata": {
        "colab": {
          "base_uri": "https://localhost:8080/"
        },
        "id": "1uKx0YlRxcWj",
        "outputId": "1d29c45c-1706-446f-a152-87ef4092079a"
      },
      "outputs": [
        {
          "output_type": "execute_result",
          "data": {
            "text/plain": [
              "array([['060310', 'KOSDAQ', '3S', ..., '박종익, 김세완 (각자 대표이사)',\n",
              "        'http://www.3sref.com', '서울특별시'],\n",
              "       ['095570', 'KOSPI', 'AJ네트웍스', ..., '이현우',\n",
              "        'http://www.ajnet.co.kr', '서울특별시'],\n",
              "       ['006840', 'KOSPI', 'AK홀딩스', ..., '채형석, 이석주(각자 대표이사)',\n",
              "        'http://www.aekyunggroup.co.kr', '서울특별시'],\n",
              "       ...,\n",
              "       ['003280', 'KOSPI', '흥아해운', ..., '이환구', 'http://www.heung-a.com',\n",
              "        '서울특별시'],\n",
              "       ['037440', 'KOSDAQ', '희림', ..., '정영균, 이목운, 허철호, 염두성 (각자대표)',\n",
              "        'http://www.heerim.com', '서울특별시'],\n",
              "       ['238490', 'KOSDAQ', '힘스', ..., '김주환', 'http://www.hims.co.kr',\n",
              "        '인천광역시']], dtype=object)"
            ]
          },
          "metadata": {},
          "execution_count": 13
        }
      ],
      "source": [
        "# 값만 보기\n",
        "df.values"
      ]
    },
    {
      "cell_type": "markdown",
      "metadata": {
        "id": "S3cTeiWRxcWj"
      },
      "source": [
        "## 데이터 색인하기\n",
        "\n",
        "### Series\n",
        "<img src=\"https://pandas.pydata.org/docs/_images/01_table_series.svg\">"
      ]
    },
    {
      "cell_type": "code",
      "execution_count": 14,
      "metadata": {
        "colab": {
          "base_uri": "https://localhost:8080/"
        },
        "id": "4rUndQu7xcWj",
        "outputId": "74e30690-0927-4b0b-dbc8-0dd2f94453c7"
      },
      "outputs": [
        {
          "output_type": "execute_result",
          "data": {
            "text/plain": [
              "0            3S\n",
              "1        AJ네트웍스\n",
              "2         AK홀딩스\n",
              "3        APS홀딩스\n",
              "4         AP시스템\n",
              "         ...   \n",
              "2607    흥국화재2우B\n",
              "2608      흥국화재우\n",
              "2609       흥아해운\n",
              "2610         희림\n",
              "2611         힘스\n",
              "Name: Name, Length: 2612, dtype: object"
            ]
          },
          "metadata": {},
          "execution_count": 14
        }
      ],
      "source": [
        "# Name 컬럼 하나만 가져옵니다.\n",
        "df[\"Name\"]"
      ]
    },
    {
      "cell_type": "code",
      "execution_count": 15,
      "metadata": {
        "colab": {
          "base_uri": "https://localhost:8080/"
        },
        "id": "ED6SYMp7xcWk",
        "outputId": "0276131b-c626-45d3-888a-224ebfb7ffa1"
      },
      "outputs": [
        {
          "output_type": "execute_result",
          "data": {
            "text/plain": [
              "pandas.core.series.Series"
            ]
          },
          "metadata": {},
          "execution_count": 15
        }
      ],
      "source": [
        "# df[\"Name\"] 의 type을 봅니다.\n",
        "type(df[\"Name\"])"
      ]
    },
    {
      "cell_type": "code",
      "execution_count": 16,
      "metadata": {
        "colab": {
          "base_uri": "https://localhost:8080/"
        },
        "id": "jEvgXY_4xcWk",
        "outputId": "9f91af03-3532-4960-d649-7d7dfcda2026"
      },
      "outputs": [
        {
          "output_type": "execute_result",
          "data": {
            "text/plain": [
              "Symbol                          060310\n",
              "Market                          KOSDAQ\n",
              "Name                                3S\n",
              "Sector                   특수 목적용 기계 제조업\n",
              "Industry                   반도체 웨이퍼 캐리어\n",
              "ListingDate                 2002-04-23\n",
              "SettleMonth                        03월\n",
              "Representative      박종익, 김세완 (각자 대표이사)\n",
              "HomePage          http://www.3sref.com\n",
              "Region                           서울특별시\n",
              "Name: 0, dtype: object"
            ]
          },
          "metadata": {},
          "execution_count": 16
        }
      ],
      "source": [
        "# 0번째 행만 가져옵니다. 행인덱스를 가져올때는 .loc를 사용합니다.\n",
        "# loc는 위치(locate)를 의미합니다.\n",
        "df.loc[0]"
      ]
    },
    {
      "cell_type": "code",
      "execution_count": 17,
      "metadata": {
        "colab": {
          "base_uri": "https://localhost:8080/"
        },
        "id": "lt6l5MUjxcWk",
        "outputId": "019fae91-3ed3-4435-b453-d130d7353f89"
      },
      "outputs": [
        {
          "output_type": "execute_result",
          "data": {
            "text/plain": [
              "pandas.core.series.Series"
            ]
          },
          "metadata": {},
          "execution_count": 17
        }
      ],
      "source": [
        "# df.loc[0] 의 type을 봅니다.\n",
        "type(df.loc[0])"
      ]
    },
    {
      "cell_type": "markdown",
      "metadata": {
        "id": "lQxdlbHGxcWk"
      },
      "source": [
        "### DataFrame\n",
        "<img src=\"https://pandas.pydata.org/docs/_images/01_table_dataframe.svg\">"
      ]
    },
    {
      "cell_type": "code",
      "execution_count": 18,
      "metadata": {
        "colab": {
          "base_uri": "https://localhost:8080/"
        },
        "id": "ZBgvqja9xcWk",
        "outputId": "22244d42-6885-4529-e2ab-5a428b80a868"
      },
      "outputs": [
        {
          "output_type": "execute_result",
          "data": {
            "text/plain": [
              "pandas.core.frame.DataFrame"
            ]
          },
          "metadata": {},
          "execution_count": 18
        }
      ],
      "source": [
        "# df 변수의 타입을 봅니다.\n",
        "type(df)"
      ]
    },
    {
      "cell_type": "code",
      "execution_count": 19,
      "metadata": {
        "colab": {
          "base_uri": "https://localhost:8080/",
          "height": 423
        },
        "id": "zU9jhBULxcWk",
        "outputId": "75bff8f0-d614-4af3-c8b8-ab00c8a3e282"
      },
      "outputs": [
        {
          "output_type": "execute_result",
          "data": {
            "text/plain": [
              "      Symbol     Name\n",
              "0     060310       3S\n",
              "1     095570   AJ네트웍스\n",
              "2     006840    AK홀딩스\n",
              "3     054620   APS홀딩스\n",
              "4     265520    AP시스템\n",
              "...      ...      ...\n",
              "2607  000547  흥국화재2우B\n",
              "2608  000545    흥국화재우\n",
              "2609  003280     흥아해운\n",
              "2610  037440       희림\n",
              "2611  238490       힘스\n",
              "\n",
              "[2612 rows x 2 columns]"
            ],
            "text/html": [
              "\n",
              "  <div id=\"df-694a3aa6-d8bd-479d-a90a-bb6e4a8e8090\">\n",
              "    <div class=\"colab-df-container\">\n",
              "      <div>\n",
              "<style scoped>\n",
              "    .dataframe tbody tr th:only-of-type {\n",
              "        vertical-align: middle;\n",
              "    }\n",
              "\n",
              "    .dataframe tbody tr th {\n",
              "        vertical-align: top;\n",
              "    }\n",
              "\n",
              "    .dataframe thead th {\n",
              "        text-align: right;\n",
              "    }\n",
              "</style>\n",
              "<table border=\"1\" class=\"dataframe\">\n",
              "  <thead>\n",
              "    <tr style=\"text-align: right;\">\n",
              "      <th></th>\n",
              "      <th>Symbol</th>\n",
              "      <th>Name</th>\n",
              "    </tr>\n",
              "  </thead>\n",
              "  <tbody>\n",
              "    <tr>\n",
              "      <th>0</th>\n",
              "      <td>060310</td>\n",
              "      <td>3S</td>\n",
              "    </tr>\n",
              "    <tr>\n",
              "      <th>1</th>\n",
              "      <td>095570</td>\n",
              "      <td>AJ네트웍스</td>\n",
              "    </tr>\n",
              "    <tr>\n",
              "      <th>2</th>\n",
              "      <td>006840</td>\n",
              "      <td>AK홀딩스</td>\n",
              "    </tr>\n",
              "    <tr>\n",
              "      <th>3</th>\n",
              "      <td>054620</td>\n",
              "      <td>APS홀딩스</td>\n",
              "    </tr>\n",
              "    <tr>\n",
              "      <th>4</th>\n",
              "      <td>265520</td>\n",
              "      <td>AP시스템</td>\n",
              "    </tr>\n",
              "    <tr>\n",
              "      <th>...</th>\n",
              "      <td>...</td>\n",
              "      <td>...</td>\n",
              "    </tr>\n",
              "    <tr>\n",
              "      <th>2607</th>\n",
              "      <td>000547</td>\n",
              "      <td>흥국화재2우B</td>\n",
              "    </tr>\n",
              "    <tr>\n",
              "      <th>2608</th>\n",
              "      <td>000545</td>\n",
              "      <td>흥국화재우</td>\n",
              "    </tr>\n",
              "    <tr>\n",
              "      <th>2609</th>\n",
              "      <td>003280</td>\n",
              "      <td>흥아해운</td>\n",
              "    </tr>\n",
              "    <tr>\n",
              "      <th>2610</th>\n",
              "      <td>037440</td>\n",
              "      <td>희림</td>\n",
              "    </tr>\n",
              "    <tr>\n",
              "      <th>2611</th>\n",
              "      <td>238490</td>\n",
              "      <td>힘스</td>\n",
              "    </tr>\n",
              "  </tbody>\n",
              "</table>\n",
              "<p>2612 rows × 2 columns</p>\n",
              "</div>\n",
              "      <button class=\"colab-df-convert\" onclick=\"convertToInteractive('df-694a3aa6-d8bd-479d-a90a-bb6e4a8e8090')\"\n",
              "              title=\"Convert this dataframe to an interactive table.\"\n",
              "              style=\"display:none;\">\n",
              "        \n",
              "  <svg xmlns=\"http://www.w3.org/2000/svg\" height=\"24px\"viewBox=\"0 0 24 24\"\n",
              "       width=\"24px\">\n",
              "    <path d=\"M0 0h24v24H0V0z\" fill=\"none\"/>\n",
              "    <path d=\"M18.56 5.44l.94 2.06.94-2.06 2.06-.94-2.06-.94-.94-2.06-.94 2.06-2.06.94zm-11 1L8.5 8.5l.94-2.06 2.06-.94-2.06-.94L8.5 2.5l-.94 2.06-2.06.94zm10 10l.94 2.06.94-2.06 2.06-.94-2.06-.94-.94-2.06-.94 2.06-2.06.94z\"/><path d=\"M17.41 7.96l-1.37-1.37c-.4-.4-.92-.59-1.43-.59-.52 0-1.04.2-1.43.59L10.3 9.45l-7.72 7.72c-.78.78-.78 2.05 0 2.83L4 21.41c.39.39.9.59 1.41.59.51 0 1.02-.2 1.41-.59l7.78-7.78 2.81-2.81c.8-.78.8-2.07 0-2.86zM5.41 20L4 18.59l7.72-7.72 1.47 1.35L5.41 20z\"/>\n",
              "  </svg>\n",
              "      </button>\n",
              "      \n",
              "  <style>\n",
              "    .colab-df-container {\n",
              "      display:flex;\n",
              "      flex-wrap:wrap;\n",
              "      gap: 12px;\n",
              "    }\n",
              "\n",
              "    .colab-df-convert {\n",
              "      background-color: #E8F0FE;\n",
              "      border: none;\n",
              "      border-radius: 50%;\n",
              "      cursor: pointer;\n",
              "      display: none;\n",
              "      fill: #1967D2;\n",
              "      height: 32px;\n",
              "      padding: 0 0 0 0;\n",
              "      width: 32px;\n",
              "    }\n",
              "\n",
              "    .colab-df-convert:hover {\n",
              "      background-color: #E2EBFA;\n",
              "      box-shadow: 0px 1px 2px rgba(60, 64, 67, 0.3), 0px 1px 3px 1px rgba(60, 64, 67, 0.15);\n",
              "      fill: #174EA6;\n",
              "    }\n",
              "\n",
              "    [theme=dark] .colab-df-convert {\n",
              "      background-color: #3B4455;\n",
              "      fill: #D2E3FC;\n",
              "    }\n",
              "\n",
              "    [theme=dark] .colab-df-convert:hover {\n",
              "      background-color: #434B5C;\n",
              "      box-shadow: 0px 1px 3px 1px rgba(0, 0, 0, 0.15);\n",
              "      filter: drop-shadow(0px 1px 2px rgba(0, 0, 0, 0.3));\n",
              "      fill: #FFFFFF;\n",
              "    }\n",
              "  </style>\n",
              "\n",
              "      <script>\n",
              "        const buttonEl =\n",
              "          document.querySelector('#df-694a3aa6-d8bd-479d-a90a-bb6e4a8e8090 button.colab-df-convert');\n",
              "        buttonEl.style.display =\n",
              "          google.colab.kernel.accessAllowed ? 'block' : 'none';\n",
              "\n",
              "        async function convertToInteractive(key) {\n",
              "          const element = document.querySelector('#df-694a3aa6-d8bd-479d-a90a-bb6e4a8e8090');\n",
              "          const dataTable =\n",
              "            await google.colab.kernel.invokeFunction('convertToInteractive',\n",
              "                                                     [key], {});\n",
              "          if (!dataTable) return;\n",
              "\n",
              "          const docLinkHtml = 'Like what you see? Visit the ' +\n",
              "            '<a target=\"_blank\" href=https://colab.research.google.com/notebooks/data_table.ipynb>data table notebook</a>'\n",
              "            + ' to learn more about interactive tables.';\n",
              "          element.innerHTML = '';\n",
              "          dataTable['output_type'] = 'display_data';\n",
              "          await google.colab.output.renderOutput(dataTable, element);\n",
              "          const docLink = document.createElement('div');\n",
              "          docLink.innerHTML = docLinkHtml;\n",
              "          element.appendChild(docLink);\n",
              "        }\n",
              "      </script>\n",
              "    </div>\n",
              "  </div>\n",
              "  "
            ]
          },
          "metadata": {},
          "execution_count": 19
        }
      ],
      "source": [
        "# 여러 컬럼을 지정할 때는 리스트 형태로 묶어주어야 합니다. \n",
        "# 2차원 행렬은 대괄호가 [] 2개가 있다는 것을 기억해 주세요. \n",
        "df[[\"Symbol\", \"Name\"]]"
      ]
    },
    {
      "cell_type": "code",
      "execution_count": 46,
      "metadata": {
        "colab": {
          "base_uri": "https://localhost:8080/",
          "height": 143
        },
        "id": "MpWUMxCExcWk",
        "outputId": "9dd3e459-4bb7-4832-c15d-b037ad44fd53"
      },
      "outputs": [
        {
          "output_type": "execute_result",
          "data": {
            "text/plain": [
              "   Symbol  Market    Name           Sector             Industry ListingDate  \\\n",
              "1  095570   KOSPI  AJ네트웍스  산업용 기계 및 장비 임대업  렌탈(파렛트, OA장비, 건설장비)  2015-08-21   \n",
              "3  054620  KOSDAQ  APS홀딩스           기타 금융업          인터넷 트래픽 솔루션  2001-12-04   \n",
              "5  211270  KOSDAQ    AP위성   통신 및 방송 장비 제조업             위성통신 단말기  2016-03-04   \n",
              "\n",
              "  SettleMonth Representative                      HomePage Region  \n",
              "1         12월            이현우        http://www.ajnet.co.kr  서울특별시  \n",
              "3         12월            정기로  http://www.apsholdings.co.kr    경기도  \n",
              "5         12월            류장수         http://www.apsi.co.kr  서울특별시  "
            ],
            "text/html": [
              "\n",
              "  <div id=\"df-70588a93-28f8-4f53-beab-821c146124d6\">\n",
              "    <div class=\"colab-df-container\">\n",
              "      <div>\n",
              "<style scoped>\n",
              "    .dataframe tbody tr th:only-of-type {\n",
              "        vertical-align: middle;\n",
              "    }\n",
              "\n",
              "    .dataframe tbody tr th {\n",
              "        vertical-align: top;\n",
              "    }\n",
              "\n",
              "    .dataframe thead th {\n",
              "        text-align: right;\n",
              "    }\n",
              "</style>\n",
              "<table border=\"1\" class=\"dataframe\">\n",
              "  <thead>\n",
              "    <tr style=\"text-align: right;\">\n",
              "      <th></th>\n",
              "      <th>Symbol</th>\n",
              "      <th>Market</th>\n",
              "      <th>Name</th>\n",
              "      <th>Sector</th>\n",
              "      <th>Industry</th>\n",
              "      <th>ListingDate</th>\n",
              "      <th>SettleMonth</th>\n",
              "      <th>Representative</th>\n",
              "      <th>HomePage</th>\n",
              "      <th>Region</th>\n",
              "    </tr>\n",
              "  </thead>\n",
              "  <tbody>\n",
              "    <tr>\n",
              "      <th>1</th>\n",
              "      <td>095570</td>\n",
              "      <td>KOSPI</td>\n",
              "      <td>AJ네트웍스</td>\n",
              "      <td>산업용 기계 및 장비 임대업</td>\n",
              "      <td>렌탈(파렛트, OA장비, 건설장비)</td>\n",
              "      <td>2015-08-21</td>\n",
              "      <td>12월</td>\n",
              "      <td>이현우</td>\n",
              "      <td>http://www.ajnet.co.kr</td>\n",
              "      <td>서울특별시</td>\n",
              "    </tr>\n",
              "    <tr>\n",
              "      <th>3</th>\n",
              "      <td>054620</td>\n",
              "      <td>KOSDAQ</td>\n",
              "      <td>APS홀딩스</td>\n",
              "      <td>기타 금융업</td>\n",
              "      <td>인터넷 트래픽 솔루션</td>\n",
              "      <td>2001-12-04</td>\n",
              "      <td>12월</td>\n",
              "      <td>정기로</td>\n",
              "      <td>http://www.apsholdings.co.kr</td>\n",
              "      <td>경기도</td>\n",
              "    </tr>\n",
              "    <tr>\n",
              "      <th>5</th>\n",
              "      <td>211270</td>\n",
              "      <td>KOSDAQ</td>\n",
              "      <td>AP위성</td>\n",
              "      <td>통신 및 방송 장비 제조업</td>\n",
              "      <td>위성통신 단말기</td>\n",
              "      <td>2016-03-04</td>\n",
              "      <td>12월</td>\n",
              "      <td>류장수</td>\n",
              "      <td>http://www.apsi.co.kr</td>\n",
              "      <td>서울특별시</td>\n",
              "    </tr>\n",
              "  </tbody>\n",
              "</table>\n",
              "</div>\n",
              "      <button class=\"colab-df-convert\" onclick=\"convertToInteractive('df-70588a93-28f8-4f53-beab-821c146124d6')\"\n",
              "              title=\"Convert this dataframe to an interactive table.\"\n",
              "              style=\"display:none;\">\n",
              "        \n",
              "  <svg xmlns=\"http://www.w3.org/2000/svg\" height=\"24px\"viewBox=\"0 0 24 24\"\n",
              "       width=\"24px\">\n",
              "    <path d=\"M0 0h24v24H0V0z\" fill=\"none\"/>\n",
              "    <path d=\"M18.56 5.44l.94 2.06.94-2.06 2.06-.94-2.06-.94-.94-2.06-.94 2.06-2.06.94zm-11 1L8.5 8.5l.94-2.06 2.06-.94-2.06-.94L8.5 2.5l-.94 2.06-2.06.94zm10 10l.94 2.06.94-2.06 2.06-.94-2.06-.94-.94-2.06-.94 2.06-2.06.94z\"/><path d=\"M17.41 7.96l-1.37-1.37c-.4-.4-.92-.59-1.43-.59-.52 0-1.04.2-1.43.59L10.3 9.45l-7.72 7.72c-.78.78-.78 2.05 0 2.83L4 21.41c.39.39.9.59 1.41.59.51 0 1.02-.2 1.41-.59l7.78-7.78 2.81-2.81c.8-.78.8-2.07 0-2.86zM5.41 20L4 18.59l7.72-7.72 1.47 1.35L5.41 20z\"/>\n",
              "  </svg>\n",
              "      </button>\n",
              "      \n",
              "  <style>\n",
              "    .colab-df-container {\n",
              "      display:flex;\n",
              "      flex-wrap:wrap;\n",
              "      gap: 12px;\n",
              "    }\n",
              "\n",
              "    .colab-df-convert {\n",
              "      background-color: #E8F0FE;\n",
              "      border: none;\n",
              "      border-radius: 50%;\n",
              "      cursor: pointer;\n",
              "      display: none;\n",
              "      fill: #1967D2;\n",
              "      height: 32px;\n",
              "      padding: 0 0 0 0;\n",
              "      width: 32px;\n",
              "    }\n",
              "\n",
              "    .colab-df-convert:hover {\n",
              "      background-color: #E2EBFA;\n",
              "      box-shadow: 0px 1px 2px rgba(60, 64, 67, 0.3), 0px 1px 3px 1px rgba(60, 64, 67, 0.15);\n",
              "      fill: #174EA6;\n",
              "    }\n",
              "\n",
              "    [theme=dark] .colab-df-convert {\n",
              "      background-color: #3B4455;\n",
              "      fill: #D2E3FC;\n",
              "    }\n",
              "\n",
              "    [theme=dark] .colab-df-convert:hover {\n",
              "      background-color: #434B5C;\n",
              "      box-shadow: 0px 1px 3px 1px rgba(0, 0, 0, 0.15);\n",
              "      filter: drop-shadow(0px 1px 2px rgba(0, 0, 0, 0.3));\n",
              "      fill: #FFFFFF;\n",
              "    }\n",
              "  </style>\n",
              "\n",
              "      <script>\n",
              "        const buttonEl =\n",
              "          document.querySelector('#df-70588a93-28f8-4f53-beab-821c146124d6 button.colab-df-convert');\n",
              "        buttonEl.style.display =\n",
              "          google.colab.kernel.accessAllowed ? 'block' : 'none';\n",
              "\n",
              "        async function convertToInteractive(key) {\n",
              "          const element = document.querySelector('#df-70588a93-28f8-4f53-beab-821c146124d6');\n",
              "          const dataTable =\n",
              "            await google.colab.kernel.invokeFunction('convertToInteractive',\n",
              "                                                     [key], {});\n",
              "          if (!dataTable) return;\n",
              "\n",
              "          const docLinkHtml = 'Like what you see? Visit the ' +\n",
              "            '<a target=\"_blank\" href=https://colab.research.google.com/notebooks/data_table.ipynb>data table notebook</a>'\n",
              "            + ' to learn more about interactive tables.';\n",
              "          element.innerHTML = '';\n",
              "          dataTable['output_type'] = 'display_data';\n",
              "          await google.colab.output.renderOutput(dataTable, element);\n",
              "          const docLink = document.createElement('div');\n",
              "          docLink.innerHTML = docLinkHtml;\n",
              "          element.appendChild(docLink);\n",
              "        }\n",
              "      </script>\n",
              "    </div>\n",
              "  </div>\n",
              "  "
            ]
          },
          "metadata": {},
          "execution_count": 46
        }
      ],
      "source": [
        "# 여러 개의 행을 가져올 때도 [] 대괄호를 통해 리스트 형태로 묶어줍니다.\n",
        "df.loc[[1,3,5]]"
      ]
    },
    {
      "cell_type": "code",
      "execution_count": 48,
      "metadata": {
        "colab": {
          "base_uri": "https://localhost:8080/",
          "height": 423
        },
        "id": "x06OJqhIxcWk",
        "outputId": "68173286-629f-4c2a-c31a-ac82bc0be2ad"
      },
      "outputs": [
        {
          "output_type": "execute_result",
          "data": {
            "text/plain": [
              "         Name\n",
              "0          3S\n",
              "1      AJ네트웍스\n",
              "2       AK홀딩스\n",
              "3      APS홀딩스\n",
              "4       AP시스템\n",
              "...       ...\n",
              "2607  흥국화재2우B\n",
              "2608    흥국화재우\n",
              "2609     흥아해운\n",
              "2610       희림\n",
              "2611       힘스\n",
              "\n",
              "[2612 rows x 1 columns]"
            ],
            "text/html": [
              "\n",
              "  <div id=\"df-ad40b34d-1b3f-452e-9a6d-b67f0ba30f09\">\n",
              "    <div class=\"colab-df-container\">\n",
              "      <div>\n",
              "<style scoped>\n",
              "    .dataframe tbody tr th:only-of-type {\n",
              "        vertical-align: middle;\n",
              "    }\n",
              "\n",
              "    .dataframe tbody tr th {\n",
              "        vertical-align: top;\n",
              "    }\n",
              "\n",
              "    .dataframe thead th {\n",
              "        text-align: right;\n",
              "    }\n",
              "</style>\n",
              "<table border=\"1\" class=\"dataframe\">\n",
              "  <thead>\n",
              "    <tr style=\"text-align: right;\">\n",
              "      <th></th>\n",
              "      <th>Name</th>\n",
              "    </tr>\n",
              "  </thead>\n",
              "  <tbody>\n",
              "    <tr>\n",
              "      <th>0</th>\n",
              "      <td>3S</td>\n",
              "    </tr>\n",
              "    <tr>\n",
              "      <th>1</th>\n",
              "      <td>AJ네트웍스</td>\n",
              "    </tr>\n",
              "    <tr>\n",
              "      <th>2</th>\n",
              "      <td>AK홀딩스</td>\n",
              "    </tr>\n",
              "    <tr>\n",
              "      <th>3</th>\n",
              "      <td>APS홀딩스</td>\n",
              "    </tr>\n",
              "    <tr>\n",
              "      <th>4</th>\n",
              "      <td>AP시스템</td>\n",
              "    </tr>\n",
              "    <tr>\n",
              "      <th>...</th>\n",
              "      <td>...</td>\n",
              "    </tr>\n",
              "    <tr>\n",
              "      <th>2607</th>\n",
              "      <td>흥국화재2우B</td>\n",
              "    </tr>\n",
              "    <tr>\n",
              "      <th>2608</th>\n",
              "      <td>흥국화재우</td>\n",
              "    </tr>\n",
              "    <tr>\n",
              "      <th>2609</th>\n",
              "      <td>흥아해운</td>\n",
              "    </tr>\n",
              "    <tr>\n",
              "      <th>2610</th>\n",
              "      <td>희림</td>\n",
              "    </tr>\n",
              "    <tr>\n",
              "      <th>2611</th>\n",
              "      <td>힘스</td>\n",
              "    </tr>\n",
              "  </tbody>\n",
              "</table>\n",
              "<p>2612 rows × 1 columns</p>\n",
              "</div>\n",
              "      <button class=\"colab-df-convert\" onclick=\"convertToInteractive('df-ad40b34d-1b3f-452e-9a6d-b67f0ba30f09')\"\n",
              "              title=\"Convert this dataframe to an interactive table.\"\n",
              "              style=\"display:none;\">\n",
              "        \n",
              "  <svg xmlns=\"http://www.w3.org/2000/svg\" height=\"24px\"viewBox=\"0 0 24 24\"\n",
              "       width=\"24px\">\n",
              "    <path d=\"M0 0h24v24H0V0z\" fill=\"none\"/>\n",
              "    <path d=\"M18.56 5.44l.94 2.06.94-2.06 2.06-.94-2.06-.94-.94-2.06-.94 2.06-2.06.94zm-11 1L8.5 8.5l.94-2.06 2.06-.94-2.06-.94L8.5 2.5l-.94 2.06-2.06.94zm10 10l.94 2.06.94-2.06 2.06-.94-2.06-.94-.94-2.06-.94 2.06-2.06.94z\"/><path d=\"M17.41 7.96l-1.37-1.37c-.4-.4-.92-.59-1.43-.59-.52 0-1.04.2-1.43.59L10.3 9.45l-7.72 7.72c-.78.78-.78 2.05 0 2.83L4 21.41c.39.39.9.59 1.41.59.51 0 1.02-.2 1.41-.59l7.78-7.78 2.81-2.81c.8-.78.8-2.07 0-2.86zM5.41 20L4 18.59l7.72-7.72 1.47 1.35L5.41 20z\"/>\n",
              "  </svg>\n",
              "      </button>\n",
              "      \n",
              "  <style>\n",
              "    .colab-df-container {\n",
              "      display:flex;\n",
              "      flex-wrap:wrap;\n",
              "      gap: 12px;\n",
              "    }\n",
              "\n",
              "    .colab-df-convert {\n",
              "      background-color: #E8F0FE;\n",
              "      border: none;\n",
              "      border-radius: 50%;\n",
              "      cursor: pointer;\n",
              "      display: none;\n",
              "      fill: #1967D2;\n",
              "      height: 32px;\n",
              "      padding: 0 0 0 0;\n",
              "      width: 32px;\n",
              "    }\n",
              "\n",
              "    .colab-df-convert:hover {\n",
              "      background-color: #E2EBFA;\n",
              "      box-shadow: 0px 1px 2px rgba(60, 64, 67, 0.3), 0px 1px 3px 1px rgba(60, 64, 67, 0.15);\n",
              "      fill: #174EA6;\n",
              "    }\n",
              "\n",
              "    [theme=dark] .colab-df-convert {\n",
              "      background-color: #3B4455;\n",
              "      fill: #D2E3FC;\n",
              "    }\n",
              "\n",
              "    [theme=dark] .colab-df-convert:hover {\n",
              "      background-color: #434B5C;\n",
              "      box-shadow: 0px 1px 3px 1px rgba(0, 0, 0, 0.15);\n",
              "      filter: drop-shadow(0px 1px 2px rgba(0, 0, 0, 0.3));\n",
              "      fill: #FFFFFF;\n",
              "    }\n",
              "  </style>\n",
              "\n",
              "      <script>\n",
              "        const buttonEl =\n",
              "          document.querySelector('#df-ad40b34d-1b3f-452e-9a6d-b67f0ba30f09 button.colab-df-convert');\n",
              "        buttonEl.style.display =\n",
              "          google.colab.kernel.accessAllowed ? 'block' : 'none';\n",
              "\n",
              "        async function convertToInteractive(key) {\n",
              "          const element = document.querySelector('#df-ad40b34d-1b3f-452e-9a6d-b67f0ba30f09');\n",
              "          const dataTable =\n",
              "            await google.colab.kernel.invokeFunction('convertToInteractive',\n",
              "                                                     [key], {});\n",
              "          if (!dataTable) return;\n",
              "\n",
              "          const docLinkHtml = 'Like what you see? Visit the ' +\n",
              "            '<a target=\"_blank\" href=https://colab.research.google.com/notebooks/data_table.ipynb>data table notebook</a>'\n",
              "            + ' to learn more about interactive tables.';\n",
              "          element.innerHTML = '';\n",
              "          dataTable['output_type'] = 'display_data';\n",
              "          await google.colab.output.renderOutput(dataTable, element);\n",
              "          const docLink = document.createElement('div');\n",
              "          docLink.innerHTML = docLinkHtml;\n",
              "          element.appendChild(docLink);\n",
              "        }\n",
              "      </script>\n",
              "    </div>\n",
              "  </div>\n",
              "  "
            ]
          },
          "metadata": {},
          "execution_count": 48
        }
      ],
      "source": [
        "# 1개의 컬럼을 가져올 때도 대괄호[] 2개를 써서 리스트 형태로 묶어주게 되면 데이터프레임 형태로 반환됩니다.\n",
        "# \"Name\" 을 데이터프레임으로 가져옵니다.\n",
        "df[[\"Name\"]]"
      ]
    },
    {
      "cell_type": "code",
      "execution_count": 49,
      "metadata": {
        "colab": {
          "base_uri": "https://localhost:8080/"
        },
        "id": "8MqCh8ZIxcWk",
        "outputId": "de8830f5-c876-4636-e936-bf06200cc6b4"
      },
      "outputs": [
        {
          "output_type": "execute_result",
          "data": {
            "text/plain": [
              "pandas.core.frame.DataFrame"
            ]
          },
          "metadata": {},
          "execution_count": 49
        }
      ],
      "source": [
        "type(df[[\"Name\"]])"
      ]
    },
    {
      "cell_type": "markdown",
      "metadata": {
        "id": "3eyyNI8hxcWl"
      },
      "source": [
        "### loc를 통한 서브셋 가져오기\n",
        "<img src=\"https://pandas.pydata.org/pandas-docs/stable/_images/03_subset_columns_rows.svg\">"
      ]
    },
    {
      "cell_type": "code",
      "execution_count": 50,
      "metadata": {
        "colab": {
          "base_uri": "https://localhost:8080/",
          "height": 35
        },
        "id": "Kjbagv07xcWl",
        "outputId": "47dde6b4-57a4-4f30-bb1b-f049904242d3"
      },
      "outputs": [
        {
          "output_type": "execute_result",
          "data": {
            "text/plain": [
              "'AJ네트웍스'"
            ],
            "application/vnd.google.colaboratory.intrinsic+json": {
              "type": "string"
            }
          },
          "metadata": {},
          "execution_count": 50
        }
      ],
      "source": [
        "# 행과 열 함께 가져오기\n",
        "# .loc[행, 열]\n",
        "df.loc[1, \"Name\"]"
      ]
    },
    {
      "cell_type": "code",
      "execution_count": 52,
      "metadata": {
        "colab": {
          "base_uri": "https://localhost:8080/",
          "height": 35
        },
        "id": "AEFqGkBsxcWl",
        "outputId": "92d0b46b-11e5-419f-dcd9-4fb21807defa"
      },
      "outputs": [
        {
          "output_type": "execute_result",
          "data": {
            "text/plain": [
              "'AJ네트웍스'"
            ],
            "application/vnd.google.colaboratory.intrinsic+json": {
              "type": "string"
            }
          },
          "metadata": {},
          "execution_count": 52
        }
      ],
      "source": [
        "# .loc[행, 열]\n",
        "df.loc[1][\"Name\"]"
      ]
    },
    {
      "cell_type": "code",
      "execution_count": 53,
      "metadata": {
        "colab": {
          "base_uri": "https://localhost:8080/"
        },
        "id": "SCs_c2KzxcWl",
        "outputId": "11ad859c-3353-4b31-998c-16f409065ee5"
      },
      "outputs": [
        {
          "output_type": "stream",
          "name": "stdout",
          "text": [
            "7.38 µs ± 879 ns per loop (mean ± std. dev. of 7 runs, 100000 loops each)\n"
          ]
        }
      ],
      "source": [
        "# %timeit\n",
        "%timeit df.loc[1, \"Name\"]"
      ]
    },
    {
      "cell_type": "code",
      "execution_count": 54,
      "metadata": {
        "colab": {
          "base_uri": "https://localhost:8080/"
        },
        "id": "FX2bb13-xcWl",
        "outputId": "490f5f46-e2e1-4147-e6be-99756115a6fc"
      },
      "outputs": [
        {
          "output_type": "stream",
          "name": "stdout",
          "text": [
            "50.1 µs ± 931 ns per loop (mean ± std. dev. of 7 runs, 10000 loops each)\n"
          ]
        }
      ],
      "source": [
        "# %timeit\n",
        "%timeit df.loc[1][\"Name\"]"
      ]
    },
    {
      "cell_type": "code",
      "execution_count": 56,
      "metadata": {
        "colab": {
          "base_uri": "https://localhost:8080/",
          "height": 143
        },
        "id": "MD1EoUMrxcWl",
        "outputId": "9b1a16d9-9c45-4d24-efa7-f51ae9c7cbe1"
      },
      "outputs": [
        {
          "output_type": "execute_result",
          "data": {
            "text/plain": [
              "   Symbol  Market    Name           Sector             Industry ListingDate  \\\n",
              "0  060310  KOSDAQ      3S    특수 목적용 기계 제조업          반도체 웨이퍼 캐리어  2002-04-23   \n",
              "1  095570   KOSPI  AJ네트웍스  산업용 기계 및 장비 임대업  렌탈(파렛트, OA장비, 건설장비)  2015-08-21   \n",
              "2  006840   KOSPI   AK홀딩스           기타 금융업                 지주사업  1999-08-11   \n",
              "\n",
              "  SettleMonth      Representative                       HomePage Region  \n",
              "0         03월  박종익, 김세완 (각자 대표이사)           http://www.3sref.com  서울특별시  \n",
              "1         12월                 이현우         http://www.ajnet.co.kr  서울특별시  \n",
              "2         12월   채형석, 이석주(각자 대표이사)  http://www.aekyunggroup.co.kr  서울특별시  "
            ],
            "text/html": [
              "\n",
              "  <div id=\"df-30691215-1fdf-49ca-b5d3-34eeac753565\">\n",
              "    <div class=\"colab-df-container\">\n",
              "      <div>\n",
              "<style scoped>\n",
              "    .dataframe tbody tr th:only-of-type {\n",
              "        vertical-align: middle;\n",
              "    }\n",
              "\n",
              "    .dataframe tbody tr th {\n",
              "        vertical-align: top;\n",
              "    }\n",
              "\n",
              "    .dataframe thead th {\n",
              "        text-align: right;\n",
              "    }\n",
              "</style>\n",
              "<table border=\"1\" class=\"dataframe\">\n",
              "  <thead>\n",
              "    <tr style=\"text-align: right;\">\n",
              "      <th></th>\n",
              "      <th>Symbol</th>\n",
              "      <th>Market</th>\n",
              "      <th>Name</th>\n",
              "      <th>Sector</th>\n",
              "      <th>Industry</th>\n",
              "      <th>ListingDate</th>\n",
              "      <th>SettleMonth</th>\n",
              "      <th>Representative</th>\n",
              "      <th>HomePage</th>\n",
              "      <th>Region</th>\n",
              "    </tr>\n",
              "  </thead>\n",
              "  <tbody>\n",
              "    <tr>\n",
              "      <th>0</th>\n",
              "      <td>060310</td>\n",
              "      <td>KOSDAQ</td>\n",
              "      <td>3S</td>\n",
              "      <td>특수 목적용 기계 제조업</td>\n",
              "      <td>반도체 웨이퍼 캐리어</td>\n",
              "      <td>2002-04-23</td>\n",
              "      <td>03월</td>\n",
              "      <td>박종익, 김세완 (각자 대표이사)</td>\n",
              "      <td>http://www.3sref.com</td>\n",
              "      <td>서울특별시</td>\n",
              "    </tr>\n",
              "    <tr>\n",
              "      <th>1</th>\n",
              "      <td>095570</td>\n",
              "      <td>KOSPI</td>\n",
              "      <td>AJ네트웍스</td>\n",
              "      <td>산업용 기계 및 장비 임대업</td>\n",
              "      <td>렌탈(파렛트, OA장비, 건설장비)</td>\n",
              "      <td>2015-08-21</td>\n",
              "      <td>12월</td>\n",
              "      <td>이현우</td>\n",
              "      <td>http://www.ajnet.co.kr</td>\n",
              "      <td>서울특별시</td>\n",
              "    </tr>\n",
              "    <tr>\n",
              "      <th>2</th>\n",
              "      <td>006840</td>\n",
              "      <td>KOSPI</td>\n",
              "      <td>AK홀딩스</td>\n",
              "      <td>기타 금융업</td>\n",
              "      <td>지주사업</td>\n",
              "      <td>1999-08-11</td>\n",
              "      <td>12월</td>\n",
              "      <td>채형석, 이석주(각자 대표이사)</td>\n",
              "      <td>http://www.aekyunggroup.co.kr</td>\n",
              "      <td>서울특별시</td>\n",
              "    </tr>\n",
              "  </tbody>\n",
              "</table>\n",
              "</div>\n",
              "      <button class=\"colab-df-convert\" onclick=\"convertToInteractive('df-30691215-1fdf-49ca-b5d3-34eeac753565')\"\n",
              "              title=\"Convert this dataframe to an interactive table.\"\n",
              "              style=\"display:none;\">\n",
              "        \n",
              "  <svg xmlns=\"http://www.w3.org/2000/svg\" height=\"24px\"viewBox=\"0 0 24 24\"\n",
              "       width=\"24px\">\n",
              "    <path d=\"M0 0h24v24H0V0z\" fill=\"none\"/>\n",
              "    <path d=\"M18.56 5.44l.94 2.06.94-2.06 2.06-.94-2.06-.94-.94-2.06-.94 2.06-2.06.94zm-11 1L8.5 8.5l.94-2.06 2.06-.94-2.06-.94L8.5 2.5l-.94 2.06-2.06.94zm10 10l.94 2.06.94-2.06 2.06-.94-2.06-.94-.94-2.06-.94 2.06-2.06.94z\"/><path d=\"M17.41 7.96l-1.37-1.37c-.4-.4-.92-.59-1.43-.59-.52 0-1.04.2-1.43.59L10.3 9.45l-7.72 7.72c-.78.78-.78 2.05 0 2.83L4 21.41c.39.39.9.59 1.41.59.51 0 1.02-.2 1.41-.59l7.78-7.78 2.81-2.81c.8-.78.8-2.07 0-2.86zM5.41 20L4 18.59l7.72-7.72 1.47 1.35L5.41 20z\"/>\n",
              "  </svg>\n",
              "      </button>\n",
              "      \n",
              "  <style>\n",
              "    .colab-df-container {\n",
              "      display:flex;\n",
              "      flex-wrap:wrap;\n",
              "      gap: 12px;\n",
              "    }\n",
              "\n",
              "    .colab-df-convert {\n",
              "      background-color: #E8F0FE;\n",
              "      border: none;\n",
              "      border-radius: 50%;\n",
              "      cursor: pointer;\n",
              "      display: none;\n",
              "      fill: #1967D2;\n",
              "      height: 32px;\n",
              "      padding: 0 0 0 0;\n",
              "      width: 32px;\n",
              "    }\n",
              "\n",
              "    .colab-df-convert:hover {\n",
              "      background-color: #E2EBFA;\n",
              "      box-shadow: 0px 1px 2px rgba(60, 64, 67, 0.3), 0px 1px 3px 1px rgba(60, 64, 67, 0.15);\n",
              "      fill: #174EA6;\n",
              "    }\n",
              "\n",
              "    [theme=dark] .colab-df-convert {\n",
              "      background-color: #3B4455;\n",
              "      fill: #D2E3FC;\n",
              "    }\n",
              "\n",
              "    [theme=dark] .colab-df-convert:hover {\n",
              "      background-color: #434B5C;\n",
              "      box-shadow: 0px 1px 3px 1px rgba(0, 0, 0, 0.15);\n",
              "      filter: drop-shadow(0px 1px 2px rgba(0, 0, 0, 0.3));\n",
              "      fill: #FFFFFF;\n",
              "    }\n",
              "  </style>\n",
              "\n",
              "      <script>\n",
              "        const buttonEl =\n",
              "          document.querySelector('#df-30691215-1fdf-49ca-b5d3-34eeac753565 button.colab-df-convert');\n",
              "        buttonEl.style.display =\n",
              "          google.colab.kernel.accessAllowed ? 'block' : 'none';\n",
              "\n",
              "        async function convertToInteractive(key) {\n",
              "          const element = document.querySelector('#df-30691215-1fdf-49ca-b5d3-34eeac753565');\n",
              "          const dataTable =\n",
              "            await google.colab.kernel.invokeFunction('convertToInteractive',\n",
              "                                                     [key], {});\n",
              "          if (!dataTable) return;\n",
              "\n",
              "          const docLinkHtml = 'Like what you see? Visit the ' +\n",
              "            '<a target=\"_blank\" href=https://colab.research.google.com/notebooks/data_table.ipynb>data table notebook</a>'\n",
              "            + ' to learn more about interactive tables.';\n",
              "          element.innerHTML = '';\n",
              "          dataTable['output_type'] = 'display_data';\n",
              "          await google.colab.output.renderOutput(dataTable, element);\n",
              "          const docLink = document.createElement('div');\n",
              "          docLink.innerHTML = docLinkHtml;\n",
              "          element.appendChild(docLink);\n",
              "        }\n",
              "      </script>\n",
              "    </div>\n",
              "  </div>\n",
              "  "
            ]
          },
          "metadata": {},
          "execution_count": 56
        }
      ],
      "source": [
        "# 여러 개의 행과 하나의 컬럼 가져오기\n",
        "# .loc[행, 열]\n",
        "df.loc[[0,1,2]]"
      ]
    },
    {
      "cell_type": "code",
      "execution_count": 57,
      "metadata": {
        "colab": {
          "base_uri": "https://localhost:8080/",
          "height": 143
        },
        "id": "t-CNsqKcxcWl",
        "outputId": "bc282fb5-5e20-41f6-9b14-8709a1edf9c9"
      },
      "outputs": [
        {
          "output_type": "execute_result",
          "data": {
            "text/plain": [
              "     Name  Symbol\n",
              "0      3S  060310\n",
              "1  AJ네트웍스  095570\n",
              "2   AK홀딩스  006840"
            ],
            "text/html": [
              "\n",
              "  <div id=\"df-71e7506b-be7b-4479-ac2b-d1e10de85737\">\n",
              "    <div class=\"colab-df-container\">\n",
              "      <div>\n",
              "<style scoped>\n",
              "    .dataframe tbody tr th:only-of-type {\n",
              "        vertical-align: middle;\n",
              "    }\n",
              "\n",
              "    .dataframe tbody tr th {\n",
              "        vertical-align: top;\n",
              "    }\n",
              "\n",
              "    .dataframe thead th {\n",
              "        text-align: right;\n",
              "    }\n",
              "</style>\n",
              "<table border=\"1\" class=\"dataframe\">\n",
              "  <thead>\n",
              "    <tr style=\"text-align: right;\">\n",
              "      <th></th>\n",
              "      <th>Name</th>\n",
              "      <th>Symbol</th>\n",
              "    </tr>\n",
              "  </thead>\n",
              "  <tbody>\n",
              "    <tr>\n",
              "      <th>0</th>\n",
              "      <td>3S</td>\n",
              "      <td>060310</td>\n",
              "    </tr>\n",
              "    <tr>\n",
              "      <th>1</th>\n",
              "      <td>AJ네트웍스</td>\n",
              "      <td>095570</td>\n",
              "    </tr>\n",
              "    <tr>\n",
              "      <th>2</th>\n",
              "      <td>AK홀딩스</td>\n",
              "      <td>006840</td>\n",
              "    </tr>\n",
              "  </tbody>\n",
              "</table>\n",
              "</div>\n",
              "      <button class=\"colab-df-convert\" onclick=\"convertToInteractive('df-71e7506b-be7b-4479-ac2b-d1e10de85737')\"\n",
              "              title=\"Convert this dataframe to an interactive table.\"\n",
              "              style=\"display:none;\">\n",
              "        \n",
              "  <svg xmlns=\"http://www.w3.org/2000/svg\" height=\"24px\"viewBox=\"0 0 24 24\"\n",
              "       width=\"24px\">\n",
              "    <path d=\"M0 0h24v24H0V0z\" fill=\"none\"/>\n",
              "    <path d=\"M18.56 5.44l.94 2.06.94-2.06 2.06-.94-2.06-.94-.94-2.06-.94 2.06-2.06.94zm-11 1L8.5 8.5l.94-2.06 2.06-.94-2.06-.94L8.5 2.5l-.94 2.06-2.06.94zm10 10l.94 2.06.94-2.06 2.06-.94-2.06-.94-.94-2.06-.94 2.06-2.06.94z\"/><path d=\"M17.41 7.96l-1.37-1.37c-.4-.4-.92-.59-1.43-.59-.52 0-1.04.2-1.43.59L10.3 9.45l-7.72 7.72c-.78.78-.78 2.05 0 2.83L4 21.41c.39.39.9.59 1.41.59.51 0 1.02-.2 1.41-.59l7.78-7.78 2.81-2.81c.8-.78.8-2.07 0-2.86zM5.41 20L4 18.59l7.72-7.72 1.47 1.35L5.41 20z\"/>\n",
              "  </svg>\n",
              "      </button>\n",
              "      \n",
              "  <style>\n",
              "    .colab-df-container {\n",
              "      display:flex;\n",
              "      flex-wrap:wrap;\n",
              "      gap: 12px;\n",
              "    }\n",
              "\n",
              "    .colab-df-convert {\n",
              "      background-color: #E8F0FE;\n",
              "      border: none;\n",
              "      border-radius: 50%;\n",
              "      cursor: pointer;\n",
              "      display: none;\n",
              "      fill: #1967D2;\n",
              "      height: 32px;\n",
              "      padding: 0 0 0 0;\n",
              "      width: 32px;\n",
              "    }\n",
              "\n",
              "    .colab-df-convert:hover {\n",
              "      background-color: #E2EBFA;\n",
              "      box-shadow: 0px 1px 2px rgba(60, 64, 67, 0.3), 0px 1px 3px 1px rgba(60, 64, 67, 0.15);\n",
              "      fill: #174EA6;\n",
              "    }\n",
              "\n",
              "    [theme=dark] .colab-df-convert {\n",
              "      background-color: #3B4455;\n",
              "      fill: #D2E3FC;\n",
              "    }\n",
              "\n",
              "    [theme=dark] .colab-df-convert:hover {\n",
              "      background-color: #434B5C;\n",
              "      box-shadow: 0px 1px 3px 1px rgba(0, 0, 0, 0.15);\n",
              "      filter: drop-shadow(0px 1px 2px rgba(0, 0, 0, 0.3));\n",
              "      fill: #FFFFFF;\n",
              "    }\n",
              "  </style>\n",
              "\n",
              "      <script>\n",
              "        const buttonEl =\n",
              "          document.querySelector('#df-71e7506b-be7b-4479-ac2b-d1e10de85737 button.colab-df-convert');\n",
              "        buttonEl.style.display =\n",
              "          google.colab.kernel.accessAllowed ? 'block' : 'none';\n",
              "\n",
              "        async function convertToInteractive(key) {\n",
              "          const element = document.querySelector('#df-71e7506b-be7b-4479-ac2b-d1e10de85737');\n",
              "          const dataTable =\n",
              "            await google.colab.kernel.invokeFunction('convertToInteractive',\n",
              "                                                     [key], {});\n",
              "          if (!dataTable) return;\n",
              "\n",
              "          const docLinkHtml = 'Like what you see? Visit the ' +\n",
              "            '<a target=\"_blank\" href=https://colab.research.google.com/notebooks/data_table.ipynb>data table notebook</a>'\n",
              "            + ' to learn more about interactive tables.';\n",
              "          element.innerHTML = '';\n",
              "          dataTable['output_type'] = 'display_data';\n",
              "          await google.colab.output.renderOutput(dataTable, element);\n",
              "          const docLink = document.createElement('div');\n",
              "          docLink.innerHTML = docLinkHtml;\n",
              "          element.appendChild(docLink);\n",
              "        }\n",
              "      </script>\n",
              "    </div>\n",
              "  </div>\n",
              "  "
            ]
          },
          "metadata": {},
          "execution_count": 57
        }
      ],
      "source": [
        "# 여러개의 행과 여러 개의 컬럼 가져오기\n",
        "# .loc[행, 열]\n",
        "df.loc[[0,1,2], ['Name', 'Symbol']]"
      ]
    },
    {
      "cell_type": "markdown",
      "metadata": {
        "id": "963jcrruxcWl"
      },
      "source": [
        "### Boolean Indexing\n",
        "* 결과값이 True, False bool 형태로 반환되기 때문에 boolean indexing 이라고 부릅니다.\n",
        "* boolean indexing 을 사용해 특정 조건식을 만족하는 데이터를 서브셋으로 가져옵니다.\n",
        "\n",
        "<img src=\"https://pandas.pydata.org/docs/_images/03_subset_rows.svg\">"
      ]
    },
    {
      "cell_type": "code",
      "execution_count": 59,
      "metadata": {
        "colab": {
          "base_uri": "https://localhost:8080/",
          "height": 81
        },
        "id": "EjO-Eu57xcWl",
        "outputId": "e7562e6b-391b-4f41-f418-4cb490c09d3e"
      },
      "outputs": [
        {
          "output_type": "execute_result",
          "data": {
            "text/plain": [
              "      Symbol Market Name                            Sector         Industry  \\\n",
              "2009  035720  KOSPI  카카오  자료처리, 호스팅, 포털 및 기타 인터넷 정보매개 서비스업  인터넷 서비스(인터넷 광고)   \n",
              "\n",
              "     ListingDate SettleMonth Representative                  HomePage   Region  \n",
              "2009  2017-07-10         12월       여민수, 조수용  http://www.kakaocorp.com  제주특별자치도  "
            ],
            "text/html": [
              "\n",
              "  <div id=\"df-12fe2036-2dee-4c35-8728-17ae6b84c530\">\n",
              "    <div class=\"colab-df-container\">\n",
              "      <div>\n",
              "<style scoped>\n",
              "    .dataframe tbody tr th:only-of-type {\n",
              "        vertical-align: middle;\n",
              "    }\n",
              "\n",
              "    .dataframe tbody tr th {\n",
              "        vertical-align: top;\n",
              "    }\n",
              "\n",
              "    .dataframe thead th {\n",
              "        text-align: right;\n",
              "    }\n",
              "</style>\n",
              "<table border=\"1\" class=\"dataframe\">\n",
              "  <thead>\n",
              "    <tr style=\"text-align: right;\">\n",
              "      <th></th>\n",
              "      <th>Symbol</th>\n",
              "      <th>Market</th>\n",
              "      <th>Name</th>\n",
              "      <th>Sector</th>\n",
              "      <th>Industry</th>\n",
              "      <th>ListingDate</th>\n",
              "      <th>SettleMonth</th>\n",
              "      <th>Representative</th>\n",
              "      <th>HomePage</th>\n",
              "      <th>Region</th>\n",
              "    </tr>\n",
              "  </thead>\n",
              "  <tbody>\n",
              "    <tr>\n",
              "      <th>2009</th>\n",
              "      <td>035720</td>\n",
              "      <td>KOSPI</td>\n",
              "      <td>카카오</td>\n",
              "      <td>자료처리, 호스팅, 포털 및 기타 인터넷 정보매개 서비스업</td>\n",
              "      <td>인터넷 서비스(인터넷 광고)</td>\n",
              "      <td>2017-07-10</td>\n",
              "      <td>12월</td>\n",
              "      <td>여민수, 조수용</td>\n",
              "      <td>http://www.kakaocorp.com</td>\n",
              "      <td>제주특별자치도</td>\n",
              "    </tr>\n",
              "  </tbody>\n",
              "</table>\n",
              "</div>\n",
              "      <button class=\"colab-df-convert\" onclick=\"convertToInteractive('df-12fe2036-2dee-4c35-8728-17ae6b84c530')\"\n",
              "              title=\"Convert this dataframe to an interactive table.\"\n",
              "              style=\"display:none;\">\n",
              "        \n",
              "  <svg xmlns=\"http://www.w3.org/2000/svg\" height=\"24px\"viewBox=\"0 0 24 24\"\n",
              "       width=\"24px\">\n",
              "    <path d=\"M0 0h24v24H0V0z\" fill=\"none\"/>\n",
              "    <path d=\"M18.56 5.44l.94 2.06.94-2.06 2.06-.94-2.06-.94-.94-2.06-.94 2.06-2.06.94zm-11 1L8.5 8.5l.94-2.06 2.06-.94-2.06-.94L8.5 2.5l-.94 2.06-2.06.94zm10 10l.94 2.06.94-2.06 2.06-.94-2.06-.94-.94-2.06-.94 2.06-2.06.94z\"/><path d=\"M17.41 7.96l-1.37-1.37c-.4-.4-.92-.59-1.43-.59-.52 0-1.04.2-1.43.59L10.3 9.45l-7.72 7.72c-.78.78-.78 2.05 0 2.83L4 21.41c.39.39.9.59 1.41.59.51 0 1.02-.2 1.41-.59l7.78-7.78 2.81-2.81c.8-.78.8-2.07 0-2.86zM5.41 20L4 18.59l7.72-7.72 1.47 1.35L5.41 20z\"/>\n",
              "  </svg>\n",
              "      </button>\n",
              "      \n",
              "  <style>\n",
              "    .colab-df-container {\n",
              "      display:flex;\n",
              "      flex-wrap:wrap;\n",
              "      gap: 12px;\n",
              "    }\n",
              "\n",
              "    .colab-df-convert {\n",
              "      background-color: #E8F0FE;\n",
              "      border: none;\n",
              "      border-radius: 50%;\n",
              "      cursor: pointer;\n",
              "      display: none;\n",
              "      fill: #1967D2;\n",
              "      height: 32px;\n",
              "      padding: 0 0 0 0;\n",
              "      width: 32px;\n",
              "    }\n",
              "\n",
              "    .colab-df-convert:hover {\n",
              "      background-color: #E2EBFA;\n",
              "      box-shadow: 0px 1px 2px rgba(60, 64, 67, 0.3), 0px 1px 3px 1px rgba(60, 64, 67, 0.15);\n",
              "      fill: #174EA6;\n",
              "    }\n",
              "\n",
              "    [theme=dark] .colab-df-convert {\n",
              "      background-color: #3B4455;\n",
              "      fill: #D2E3FC;\n",
              "    }\n",
              "\n",
              "    [theme=dark] .colab-df-convert:hover {\n",
              "      background-color: #434B5C;\n",
              "      box-shadow: 0px 1px 3px 1px rgba(0, 0, 0, 0.15);\n",
              "      filter: drop-shadow(0px 1px 2px rgba(0, 0, 0, 0.3));\n",
              "      fill: #FFFFFF;\n",
              "    }\n",
              "  </style>\n",
              "\n",
              "      <script>\n",
              "        const buttonEl =\n",
              "          document.querySelector('#df-12fe2036-2dee-4c35-8728-17ae6b84c530 button.colab-df-convert');\n",
              "        buttonEl.style.display =\n",
              "          google.colab.kernel.accessAllowed ? 'block' : 'none';\n",
              "\n",
              "        async function convertToInteractive(key) {\n",
              "          const element = document.querySelector('#df-12fe2036-2dee-4c35-8728-17ae6b84c530');\n",
              "          const dataTable =\n",
              "            await google.colab.kernel.invokeFunction('convertToInteractive',\n",
              "                                                     [key], {});\n",
              "          if (!dataTable) return;\n",
              "\n",
              "          const docLinkHtml = 'Like what you see? Visit the ' +\n",
              "            '<a target=\"_blank\" href=https://colab.research.google.com/notebooks/data_table.ipynb>data table notebook</a>'\n",
              "            + ' to learn more about interactive tables.';\n",
              "          element.innerHTML = '';\n",
              "          dataTable['output_type'] = 'display_data';\n",
              "          await google.colab.output.renderOutput(dataTable, element);\n",
              "          const docLink = document.createElement('div');\n",
              "          docLink.innerHTML = docLinkHtml;\n",
              "          element.appendChild(docLink);\n",
              "        }\n",
              "      </script>\n",
              "    </div>\n",
              "  </div>\n",
              "  "
            ]
          },
          "metadata": {},
          "execution_count": 59
        }
      ],
      "source": [
        "# 카카오를 찾습니다.\n",
        "df[df[\"Name\"] == \"카카오\"]"
      ]
    },
    {
      "cell_type": "markdown",
      "metadata": {
        "id": "212nx_suxcWl"
      },
      "source": [
        "<img src=\"https://pandas.pydata.org/pandas-docs/stable/_images/03_subset_columns_rows.svg\">"
      ]
    },
    {
      "cell_type": "code",
      "execution_count": 29,
      "metadata": {
        "colab": {
          "base_uri": "https://localhost:8080/"
        },
        "id": "ZfUJC7wyxcWm",
        "outputId": "24ab8f73-6920-4855-bb39-237fdc951314"
      },
      "outputs": [
        {
          "output_type": "execute_result",
          "data": {
            "text/plain": [
              "False"
            ]
          },
          "metadata": {},
          "execution_count": 29
        }
      ],
      "source": [
        "# and => &\n",
        "# or => |\n",
        "True and False"
      ]
    },
    {
      "cell_type": "code",
      "execution_count": 67,
      "metadata": {
        "colab": {
          "base_uri": "https://localhost:8080/"
        },
        "id": "LWSzaA9KxcWm",
        "outputId": "e47e184c-ee1c-472a-ea3a-2326ab4e0d72"
      },
      "outputs": [
        {
          "output_type": "execute_result",
          "data": {
            "text/plain": [
              "1       AJ네트웍스\n",
              "2        AK홀딩스\n",
              "6          BGF\n",
              "7       BGF리테일\n",
              "9          BYC\n",
              "         ...  \n",
              "2596       휴비스\n",
              "2598       휴스틸\n",
              "2602       휴켐스\n",
              "2606      흥국화재\n",
              "2609      흥아해운\n",
              "Name: Name, Length: 407, dtype: object"
            ]
          },
          "metadata": {},
          "execution_count": 67
        }
      ],
      "source": [
        "# 서울특별시에 소재지를 두고 있는 KOSPI 종목의 종목명과 심볼을 가져옵니다.\n",
        "# .loc[행, 열]\n",
        "# .loc[조건식, 열]\n",
        "\n",
        "df.loc[(df[\"Region\"] == \"서울특별시\") & (df[\"Market\"] == \"KOSPI\"), [\"Symbol\", \"Name\"]]\n",
        "\n",
        "# display(df[df[\"Region\"] == \"서울특별시\"])\n",
        "# df[\"Market\"] == \"KOSPI\"\n",
        "\n",
        "seoul = df[\"Region\"] == \"서울특별시\"\n",
        "kospi = df[\"Market\"] == \"KOSPI\"\n",
        "df.loc[seoul * kospi, \"Name\"]"
      ]
    },
    {
      "cell_type": "markdown",
      "metadata": {
        "id": "8htRZArsxcWm"
      },
      "source": [
        "## 파생변수 만들기"
      ]
    },
    {
      "cell_type": "code",
      "execution_count": 72,
      "metadata": {
        "colab": {
          "base_uri": "https://localhost:8080/"
        },
        "id": "y_U_EhN7xcWm",
        "outputId": "37f002d4-6d70-41b9-ab94-9f2e8e49174c"
      },
      "outputs": [
        {
          "output_type": "execute_result",
          "data": {
            "text/plain": [
              "0   2002-04-23\n",
              "1   2015-08-21\n",
              "2   1999-08-11\n",
              "3   2001-12-04\n",
              "4   2017-04-07\n",
              "Name: ListingDate, dtype: datetime64[ns]"
            ]
          },
          "metadata": {},
          "execution_count": 72
        }
      ],
      "source": [
        "# pd.to_datetime 을 통해 데이터의 타입을 변환합니다.\n",
        "df[\"ListingDate\"]= pd.to_datetime(df[\"ListingDate\"])\n",
        "df[\"ListingDate\"].head()\n"
      ]
    },
    {
      "cell_type": "code",
      "execution_count": 73,
      "metadata": {
        "colab": {
          "base_uri": "https://localhost:8080/"
        },
        "id": "nKH7XZSIxcWm",
        "outputId": "0e65cc49-2635-4fa9-c286-4bac5ee96fbb"
      },
      "outputs": [
        {
          "output_type": "execute_result",
          "data": {
            "text/plain": [
              "2607          NaT\n",
              "2608          NaT\n",
              "2609   1976-06-29\n",
              "2610   2000-02-03\n",
              "2611   2017-07-20\n",
              "Name: ListingDate, dtype: datetime64[ns]"
            ]
          },
          "metadata": {},
          "execution_count": 73
        }
      ],
      "source": [
        "# ListingYear 파생변수 만들기\n",
        "df[\"ListingYear\"] = df[\"ListingDate\"].dt.year\n",
        "df[\"ListingDate\"].tail(5)\n",
        " "
      ]
    },
    {
      "cell_type": "code",
      "execution_count": 74,
      "metadata": {
        "colab": {
          "base_uri": "https://localhost:8080/"
        },
        "id": "nXioSoDSxcWm",
        "outputId": "ec364016-65b9-42f0-da60-dd40015ad224"
      },
      "outputs": [
        {
          "output_type": "execute_result",
          "data": {
            "text/plain": [
              "float"
            ]
          },
          "metadata": {},
          "execution_count": 74
        }
      ],
      "source": [
        "# nan은 not a number의 약자로 결측치를 의미합니다.\n",
        "import numpy as np\n",
        "type(np.nan)"
      ]
    },
    {
      "cell_type": "code",
      "execution_count": 78,
      "metadata": {
        "colab": {
          "base_uri": "https://localhost:8080/"
        },
        "id": "Gg6bn5IJxcWm",
        "outputId": "c9abe2f6-e0a2-436c-f639-e924ee0ad86e"
      },
      "outputs": [
        {
          "output_type": "execute_result",
          "data": {
            "text/plain": [
              "ListingDate    datetime64[ns]\n",
              "ListingYear           float64\n",
              "dtype: object"
            ]
          },
          "metadata": {},
          "execution_count": 78
        }
      ],
      "source": [
        "df[[\"ListingDate\", \"ListingYear\"]].dtypes"
      ]
    },
    {
      "cell_type": "markdown",
      "metadata": {
        "id": "-oTwRcymxcWm"
      },
      "source": [
        "## 데이터 시각화 툴 소개\n",
        "\n",
        "### matplotlib\n",
        "* [Anatomy of a figure — Matplotlib documentation](https://matplotlib.org/3.1.1/gallery/showcase/anatomy.html)\n",
        "\n",
        "### seaborn\n",
        "* [seaborn: statistical data visualization — seaborn documentation](https://seaborn.pydata.org/index.html)\n",
        "\n",
        "### pandas\n",
        "* [Visualization — pandas documentation](https://pandas.pydata.org/pandas-docs/stable/user_guide/visualization.html)"
      ]
    },
    {
      "cell_type": "markdown",
      "metadata": {
        "id": "TyZsWZFixcWm"
      },
      "source": [
        "## 데이터 시각화를 위한 폰트설정"
      ]
    },
    {
      "cell_type": "code",
      "execution_count": 80,
      "metadata": {
        "id": "Cx020q8NxcWm"
      },
      "outputs": [],
      "source": [
        "def get_font_family():\n",
        "    \"\"\"\n",
        "    시스템 환경에 따른 기본 폰트명을 반환하는 함수\n",
        "    \"\"\"\n",
        "    import platform\n",
        "    system_name = platform.system()\n",
        "    # colab 사용자는 system_name이 'Linux'로 확인\n",
        "\n",
        "    if system_name == \"Darwin\" :\n",
        "        font_family = \"AppleGothic\"\n",
        "    elif system_name == \"Windows\":\n",
        "        font_family = \"Malgun Gothic\"\n",
        "    else:\n",
        "        !apt-get install fonts-nanum -qq  > /dev/null\n",
        "        !fc-cache -fv\n",
        "\n",
        "        import matplotlib as mpl\n",
        "        mpl.font_manager._rebuild()\n",
        "        findfont = mpl.font_manager.fontManager.findfont\n",
        "        mpl.font_manager.findfont = findfont\n",
        "        mpl.backends.backend_agg.findfont = findfont\n",
        "        \n",
        "        font_family = \"NanumBarunGothic\"\n",
        "    return font_family"
      ]
    },
    {
      "cell_type": "code",
      "execution_count": 81,
      "metadata": {
        "colab": {
          "base_uri": "https://localhost:8080/",
          "height": 254
        },
        "id": "NOMWwZydxcWm",
        "outputId": "beecb593-4388-40e3-d1fd-4d395458c358"
      },
      "outputs": [
        {
          "output_type": "stream",
          "name": "stdout",
          "text": [
            "/usr/share/fonts: caching, new cache contents: 0 fonts, 1 dirs\n",
            "/usr/share/fonts/truetype: caching, new cache contents: 0 fonts, 3 dirs\n",
            "/usr/share/fonts/truetype/humor-sans: caching, new cache contents: 1 fonts, 0 dirs\n",
            "/usr/share/fonts/truetype/liberation: caching, new cache contents: 16 fonts, 0 dirs\n",
            "/usr/share/fonts/truetype/nanum: caching, new cache contents: 10 fonts, 0 dirs\n",
            "/usr/local/share/fonts: caching, new cache contents: 0 fonts, 0 dirs\n",
            "/root/.local/share/fonts: skipping, no such directory\n",
            "/root/.fonts: skipping, no such directory\n",
            "/var/cache/fontconfig: cleaning cache directory\n",
            "/root/.cache/fontconfig: not cleaning non-existent cache directory\n",
            "/root/.fontconfig: not cleaning non-existent cache directory\n",
            "fc-cache: succeeded\n"
          ]
        },
        {
          "output_type": "execute_result",
          "data": {
            "text/plain": [
              "'NanumBarunGothic'"
            ],
            "application/vnd.google.colaboratory.intrinsic+json": {
              "type": "string"
            }
          },
          "metadata": {},
          "execution_count": 81
        }
      ],
      "source": [
        "# 위에서 만든 함수를 통해 시스템 폰트를 불러옵니다.\n",
        "get_font_family()"
      ]
    },
    {
      "cell_type": "code",
      "execution_count": 87,
      "metadata": {
        "colab": {
          "base_uri": "https://localhost:8080/"
        },
        "id": "i3d6QHNnxcWn",
        "outputId": "47c3a02e-548f-439e-f429-37983cd4cfdc"
      },
      "outputs": [
        {
          "output_type": "stream",
          "name": "stdout",
          "text": [
            "/usr/share/fonts: caching, new cache contents: 0 fonts, 1 dirs\n",
            "/usr/share/fonts/truetype: caching, new cache contents: 0 fonts, 3 dirs\n",
            "/usr/share/fonts/truetype/humor-sans: caching, new cache contents: 1 fonts, 0 dirs\n",
            "/usr/share/fonts/truetype/liberation: caching, new cache contents: 16 fonts, 0 dirs\n",
            "/usr/share/fonts/truetype/nanum: caching, new cache contents: 10 fonts, 0 dirs\n",
            "/usr/local/share/fonts: caching, new cache contents: 0 fonts, 0 dirs\n",
            "/root/.local/share/fonts: skipping, no such directory\n",
            "/root/.fonts: skipping, no such directory\n",
            "/var/cache/fontconfig: cleaning cache directory\n",
            "/root/.cache/fontconfig: not cleaning non-existent cache directory\n",
            "/root/.fontconfig: not cleaning non-existent cache directory\n",
            "fc-cache: succeeded\n"
          ]
        }
      ],
      "source": [
        "# 시각화를 위한 폰트설정\n",
        "# 위에서 만든 함수를 통해 시스템 폰트를 불러와서 font_family 라는 변수에 할당합니다.\n",
        "import matplotlib.pyplot as plt\n",
        "font_family = get_font_family()\n",
        "\n",
        "# 폰트설정\n",
        "plt.rc(\"font\", family = font_family)\n",
        "\n",
        "# 마이너스폰트 설정\n",
        "plt.rc(\"axes\", unicode_minus=False)\n",
        "\n",
        "# ggplot으로 그래프 스타일 설정\n",
        "plt.style.use(\"ggplot\")\n",
        "\n",
        "# 그래프에 retina display 적용\n",
        "from IPython.display import set_matplotlib_formats\n",
        "set_matplotlib_formats(\"retina\")"
      ]
    },
    {
      "cell_type": "markdown",
      "metadata": {
        "id": "UKSmV4r6xcWn"
      },
      "source": [
        "### 폰트 설정 확인하기"
      ]
    },
    {
      "cell_type": "code",
      "execution_count": 89,
      "metadata": {
        "scrolled": false,
        "colab": {
          "base_uri": "https://localhost:8080/",
          "height": 301
        },
        "id": "9qoMggSxxcWn",
        "outputId": "2a758821-9171-4a17-e8df-b5fc7ead3561"
      },
      "outputs": [
        {
          "output_type": "execute_result",
          "data": {
            "text/plain": [
              "<matplotlib.axes._subplots.AxesSubplot at 0x7fa0d4379eb0>"
            ]
          },
          "metadata": {},
          "execution_count": 89
        },
        {
          "output_type": "display_data",
          "data": {
            "text/plain": [
              "<Figure size 432x288 with 1 Axes>"
            ],
            "image/png": "[encoded data removed]"
          },
          "metadata": {
            "image/png": {
              "width": 362,
              "height": 266
            }
          }
        }
      ],
      "source": [
        "# 한글폰트 확인하기\n",
        "pd.Series([1,3,5,7,9]).plot(title=\"한글폰트\")\n"
      ]
    },
    {
      "cell_type": "markdown",
      "metadata": {
        "id": "MgtLtCvIxcWn"
      },
      "source": [
        "## 한 개의 변수 빈도수 구하고 시각화 하기\n",
        "* Keyword\n",
        "\n",
        "    * Series.value_counts()\n",
        "    * Series.value_counts().plot()\n",
        "    * Series.value_counts().plot.bar()\n",
        "    * Series.value_counts().plot.barh()\n",
        "    * sns.countplot()\n",
        "\n",
        "### Market\n",
        "\n",
        "* KOSPI (Korea Composite Stock Price Index) \n",
        "    * 우리나라의 종합주가지수(KOSPI)는 증권거래소가 1964.1.4일을 기준시점으로 다우존스식 주가평균을 지수화한 수정주가 평균지수를 산출, 발표하기 시작하였다. 다우존스식 주가지수는 주가지수를 구성하는 상장종목 중 일부 우량주만을 선정하여 산출하는 방식이다. 시가총액식 주가지수는 일정시점의 시가총액과 현재시점의 시가총액을 대비, 현재의 주가수준을 판단하는 방식이다. 즉, 지난 1980년 1월 4일 기준 상장종목 전체의 시가총액을 100으로 보고 현재 상장종목들의 시가총액이 어느 수준에 놓여 있는지를 보여주는 시스템이다.\n",
        "    * 종합주가지수 = (비교시점의 시가총액 ÷ 기준시점의 시가총액) × 100\n",
        "    * 출처 : [네이버 지식백과] 종합주가지수 (시사상식사전, pmg 지식엔진연구소) https://terms.naver.com/entry.nhn?docId=72147&cid=43667&categoryId=43667\n",
        "\n",
        "\n",
        "* KOSDAQ (Korea Securities Dealers Automated Quotation) \n",
        "    * 미국의 나스닥(NASDAQ)을 한국식으로 합성한 용어로 1996년 7월 1일 증권업협회와 증권사들이 설립한 코스닥증권(주)에 의하여 개설되었다. 코스닥의 개장으로 단순히 증권거래소 상장을 위한 예비적 단계였던 장외시장이 미국의 나스닥(NASDAQ)과 같이 자금조달 및 투자시장으로 독립적인 역할을 수행하게 되었다. 이후 2005년 1월 유가증권시장, 코스닥시장, 선물시장이 증권선물거래소(현 한국거래소)로 통합됨에 따라 코스닥시장도 거래소가 개설한 정규시장으로 편입되었다. 코스닥은 유가증권시장에 비해 진입요건이 상대적으로 덜 까다롭기 때문에 주로 중소벤처기업들이 상장되어 있다.\n",
        "    * 출처 : [네이버 지식백과] KOSDAQ (매일경제, 매경닷컴) https://terms.naver.com/entry.nhn?docId=18639&cid=43659&categoryId=43659\n",
        "\n",
        "\n",
        "* KONEX(Korea New Exchange) : \n",
        "    * 일정 요건을 갖춘 비상장 기업에 문호를 개방하기 위해 개설하는 유가증권시장, 코스닥시장에 이은 제3의 주식시장을 일컫는다. 코넥스시장은 우수한 기술력을 보유하고 있음에도 불구하고, 짧은 경력 등을 이유로 자금 조달에 어려움을 겪는 초기 중소기업과 벤처기업이 자금을 원활하게 조달할 수 있도록 하기 위해 설립된 자본시장으로, 2013년 7월 1일 개장되었다. \n",
        "    * 출처 : [네이버 지식백과] 코넥스 (시사상식사전, pmg 지식엔진연구소) https://terms.naver.com/entry.nhn?docId=1006691&cid=43667&categoryId=43667"
      ]
    },
    {
      "cell_type": "code",
      "execution_count": 38,
      "metadata": {
        "scrolled": false,
        "id": "Q2HUe-QSxcWn"
      },
      "outputs": [],
      "source": [
        "# Market column에 어떤 데이터들이 있는지 unique로 확인합니다.\n"
      ]
    },
    {
      "cell_type": "code",
      "execution_count": 39,
      "metadata": {
        "id": "nPS9kJuGxcWn"
      },
      "outputs": [],
      "source": [
        "# value_counts()로 빈도수를 구합니다.\n"
      ]
    },
    {
      "cell_type": "code",
      "execution_count": 40,
      "metadata": {
        "id": "XuSBPah8xcWn"
      },
      "outputs": [],
      "source": [
        "# 빈도수를 시각화 합니다.\n"
      ]
    },
    {
      "cell_type": "code",
      "execution_count": 41,
      "metadata": {
        "id": "KflgsQIxxcWn"
      },
      "outputs": [],
      "source": [
        "# Seaborn countplot 활용하여 빈도수를 표현합니다.\n"
      ]
    },
    {
      "cell_type": "markdown",
      "metadata": {
        "id": "-rmZBijBxcWn"
      },
      "source": [
        "### Sector"
      ]
    },
    {
      "cell_type": "code",
      "execution_count": 42,
      "metadata": {
        "id": "vm5REGt8xcWn"
      },
      "outputs": [],
      "source": [
        "# 섹터의 빈도수를 구합니다.\n",
        "# 상위 30개 섹터의 빈도수를 sector_count_top 변수에 할당합니다.\n",
        "# sector_count_top\n"
      ]
    },
    {
      "cell_type": "code",
      "execution_count": 43,
      "metadata": {
        "id": "IeLaH5A1xcWo"
      },
      "outputs": [],
      "source": [
        "# df_sector_30"
      ]
    },
    {
      "cell_type": "code",
      "execution_count": 44,
      "metadata": {
        "id": "0VLuQXCExcWo"
      },
      "outputs": [],
      "source": [
        "# Seaborn countplot 활용하여 빈도수를 표현합니다.\n"
      ]
    },
    {
      "cell_type": "code",
      "execution_count": 45,
      "metadata": {
        "colab": {
          "base_uri": "https://localhost:8080/",
          "height": 173
        },
        "id": "anA07nDlxcWo",
        "outputId": "6c6ba76c-841e-4bee-9e2b-8ce003f986d3"
      },
      "outputs": [
        {
          "output_type": "error",
          "ename": "NameError",
          "evalue": "ignored",
          "traceback": [
            "\u001b[0;31m---------------------------------------------------------------------------\u001b[0m",
            "\u001b[0;31mNameError\u001b[0m                                 Traceback (most recent call last)",
            "\u001b[0;32m<ipython-input-45-f69aa8d33da6>\u001b[0m in \u001b[0;36m<module>\u001b[0;34m\u001b[0m\n\u001b[0;32m----> 1\u001b[0;31m \u001b[0mprint\u001b[0m\u001b[0;34m(\u001b[0m\u001b[0mplt\u001b[0m\u001b[0;34m.\u001b[0m\u001b[0mcolormaps\u001b[0m\u001b[0;34m(\u001b[0m\u001b[0;34m)\u001b[0m\u001b[0;34m)\u001b[0m\u001b[0;34m\u001b[0m\u001b[0;34m\u001b[0m\u001b[0m\n\u001b[0m",
            "\u001b[0;31mNameError\u001b[0m: name 'plt' is not defined"
          ]
        }
      ],
      "source": [
        "print(plt.colormaps())"
      ]
    },
    {
      "cell_type": "code",
      "execution_count": null,
      "metadata": {
        "id": "lwOZ2R6sxcWo"
      },
      "outputs": [],
      "source": [
        "# 빈도수가 가장 많은 데이터 색인하기\n"
      ]
    },
    {
      "cell_type": "markdown",
      "metadata": {
        "id": "ZZfnBqEsxcWo"
      },
      "source": [
        "### Industry"
      ]
    },
    {
      "cell_type": "code",
      "execution_count": null,
      "metadata": {
        "id": "FAfoqj-YxcWo"
      },
      "outputs": [],
      "source": [
        "# Industry 의 빈도수를 구합니다.\n",
        "# industry_top30"
      ]
    },
    {
      "cell_type": "code",
      "execution_count": null,
      "metadata": {
        "scrolled": false,
        "id": "V0B7AQZrxcWo"
      },
      "outputs": [],
      "source": [
        "# Industry 빈도수를 pandas 의 plot 기능을 사용해 시각화 합니다.\n"
      ]
    },
    {
      "cell_type": "code",
      "execution_count": null,
      "metadata": {
        "id": "16H4iMDrxcWo"
      },
      "outputs": [],
      "source": [
        "# df[df[\"Industry\"].isin(industry_top30.index)]"
      ]
    },
    {
      "cell_type": "code",
      "execution_count": null,
      "metadata": {
        "id": "kmpuwiUuxcWo"
      },
      "outputs": [],
      "source": [
        "# seaborn\n"
      ]
    },
    {
      "cell_type": "markdown",
      "metadata": {
        "id": "9UIrzl2KxcWo"
      },
      "source": [
        "### Region "
      ]
    },
    {
      "cell_type": "code",
      "execution_count": null,
      "metadata": {
        "id": "iPqMEk4WxcWo"
      },
      "outputs": [],
      "source": [
        "# Region 의 빈도수를 구합니다.\n",
        "# value_counts()통해 지역별 상장회사의 빈도수를 봅니다.\n"
      ]
    },
    {
      "cell_type": "code",
      "execution_count": null,
      "metadata": {
        "id": "RpmbCrSPxcWp"
      },
      "outputs": [],
      "source": [
        "# df[\"Region\"]\n"
      ]
    },
    {
      "cell_type": "code",
      "execution_count": null,
      "metadata": {
        "id": "ZAxnjLYAxcWp"
      },
      "outputs": [],
      "source": [
        "# Region 의 빈도수를 seaborn 의 countplot 으로 그립니다.\n"
      ]
    },
    {
      "cell_type": "code",
      "execution_count": null,
      "metadata": {
        "id": "tlFtFcpIxcWp"
      },
      "outputs": [],
      "source": [
        "# order 기능을 통해 빈도수를 정렬합니다.\n",
        "# df[\"Region\"].value_counts().index 로 Region 의 순서를 가져와서 지정합니다.\n"
      ]
    },
    {
      "cell_type": "code",
      "execution_count": null,
      "metadata": {
        "id": "OZn6HI4xxcWp"
      },
      "outputs": [],
      "source": [
        "# Region 을 기준으로 정렬합니다.\n"
      ]
    },
    {
      "cell_type": "markdown",
      "metadata": {
        "id": "2zfQCyj_xcWp"
      },
      "source": [
        "## 두 개의 변수 빈도수 구하고 시각화 하기\n",
        "* crosstab 으로 빈도수 구하기\n",
        "* seaborn의 countplot 으로 빈도수 시각화\n",
        "* pandas의 plot 기능으로 시각화\n",
        "    * lineplot : 연속된 데이터(숫자, 기간)\n",
        "    * barplot : 비연속 데이터(범주형)\n",
        "    * hist : 연속된 수치 데이터의 범주화"
      ]
    },
    {
      "cell_type": "markdown",
      "metadata": {
        "id": "jZNHFz_6xcWp"
      },
      "source": [
        "### 지역별 상장 시장 종목 빈도수 구하기\n",
        "* pd.crosstab 을 통한 2개의 변수에 대한 빈도수 구하기"
      ]
    },
    {
      "cell_type": "code",
      "execution_count": null,
      "metadata": {
        "id": "WZJH5K8xxcWp"
      },
      "outputs": [],
      "source": [
        "# pd.crosstab 을 통한 2개의 변수에 대한 빈도수 구하기\n",
        "# Market 과 Region 으로 빈도수 구하기\n"
      ]
    },
    {
      "cell_type": "code",
      "execution_count": null,
      "metadata": {
        "id": "dzRG7Wf4xcWp"
      },
      "outputs": [],
      "source": [
        "# countplot : Market 과 Region 으로 빈도수 시각화 하기\n"
      ]
    },
    {
      "cell_type": "markdown",
      "metadata": {
        "id": "a8pPxKngxcWp"
      },
      "source": [
        "### 연도별 상장 종목 빈도수 분석"
      ]
    },
    {
      "cell_type": "code",
      "execution_count": null,
      "metadata": {
        "id": "-dckHexoxcWp"
      },
      "outputs": [],
      "source": [
        "# Market, ListingYear 빈도수 구하기\n",
        "# market_year"
      ]
    },
    {
      "cell_type": "markdown",
      "metadata": {
        "id": "ynmL0nK0xcWp"
      },
      "source": [
        "### seaborn을 통한 빈도수 시각화"
      ]
    },
    {
      "cell_type": "code",
      "execution_count": null,
      "metadata": {
        "id": "X87YUNQGxcWq"
      },
      "outputs": [],
      "source": [
        "# Seaborn countplot 활용하여 빈도수를 표현합니다.\n",
        "# hue 를 사용해 다른 변수를 함께 표현합니다. hue는 색상을 의미합니다.\n"
      ]
    },
    {
      "cell_type": "markdown",
      "metadata": {
        "id": "vRiQMYCkxcWq"
      },
      "source": [
        "### Pandas를 통한 시각화"
      ]
    },
    {
      "cell_type": "code",
      "execution_count": null,
      "metadata": {
        "id": "hB2RtuGNxcWq"
      },
      "outputs": [],
      "source": [
        "# Pandas plot 기능 활용하여 기본 그래프(line)를 그립니다.\n",
        "# Pandas plot으로 그릴 때 x축에 인덱스 값이 y축에는 컬럼에 있는 값이 들어갑니다.\n",
        "# 컬럼이 여러개라면 다른 색상으로 그려집니다.\n"
      ]
    },
    {
      "cell_type": "code",
      "execution_count": null,
      "metadata": {
        "id": "2j-XRqf-xcWq"
      },
      "outputs": [],
      "source": [
        "# 컬럼값을 subplots 으로 그립니다.\n"
      ]
    },
    {
      "cell_type": "code",
      "execution_count": null,
      "metadata": {
        "id": "gbqTU7HJxcWq"
      },
      "outputs": [],
      "source": [
        "# Pandas plot 기능 활용하여 막대 그래프(bar, barh)를 그립니다.\n"
      ]
    },
    {
      "cell_type": "code",
      "execution_count": null,
      "metadata": {
        "id": "FjksGbgkxcWq"
      },
      "outputs": [],
      "source": [
        "# 컬럼명의 데이터 타입을 int 형태로 변경합니다.\n",
        "# market_year.columns\n"
      ]
    },
    {
      "cell_type": "code",
      "execution_count": null,
      "metadata": {
        "id": "0xQTfOlsxcWq"
      },
      "outputs": [],
      "source": [
        "# 막대(bar)그래프 그리기\n",
        "# market_year\n"
      ]
    },
    {
      "cell_type": "markdown",
      "metadata": {
        "id": "pCDZCZH8xcWq"
      },
      "source": [
        "### groupby 와 pivot_table로 빈도수 구하기\n",
        "<img src=\"https://pandas.pydata.org/pandas-docs/stable/_images/06_valuecounts.svg\">\n",
        "\n",
        "* [How to calculate summary statistics? — pandas documentation](https://pandas.pydata.org/pandas-docs/stable/getting_started/intro_tutorials/06_calculate_statistics.html)\n",
        "* [Group by: split-apply-combine — pandas documentation](https://pandas.pydata.org/pandas-docs/stable/user_guide/groupby.html)\n",
        "* [pandas.pivot_table — pandas 1.2.0 documentation](https://pandas.pydata.org/pandas-docs/stable/reference/api/pandas.pivot_table.html)"
      ]
    },
    {
      "cell_type": "code",
      "execution_count": null,
      "metadata": {
        "id": "yA_dNfXuxcWq"
      },
      "outputs": [],
      "source": [
        "# groupby([인덱스 컬럼 리스트])[연산에 사용할 컬럼].연산()\n",
        "# market_year"
      ]
    },
    {
      "cell_type": "code",
      "execution_count": null,
      "metadata": {
        "id": "4BGcQZvPxcWq"
      },
      "outputs": [],
      "source": []
    },
    {
      "cell_type": "code",
      "execution_count": null,
      "metadata": {
        "id": "tmc2wTxUxcWq"
      },
      "outputs": [],
      "source": [
        "# pivot_table로 같은 결과가 나오게 연산하기\n"
      ]
    },
    {
      "cell_type": "code",
      "execution_count": null,
      "metadata": {
        "id": "COaW2AfBxcWq"
      },
      "outputs": [],
      "source": [
        "# 위의 groupby 결과를 scatterplot으로 그립니다.\n",
        "# df_market_year\n"
      ]
    },
    {
      "cell_type": "code",
      "execution_count": null,
      "metadata": {
        "id": "cCUTu-5YxcWr"
      },
      "outputs": [],
      "source": [
        "# lineplot 그리기\n"
      ]
    },
    {
      "cell_type": "code",
      "execution_count": null,
      "metadata": {
        "id": "lSCMJ0FhxcWr"
      },
      "outputs": [],
      "source": [
        "# relplot으로 subplot 그리기 - scatter\n"
      ]
    },
    {
      "cell_type": "code",
      "execution_count": null,
      "metadata": {
        "id": "-PsImfgMxcWr"
      },
      "outputs": [],
      "source": [
        "# relplot으로 subplot 그리기 - line\n"
      ]
    },
    {
      "cell_type": "markdown",
      "metadata": {
        "id": "teTo1j0XxcWr"
      },
      "source": [
        "### 구간화 binnig 과 히스토그램\n",
        "* 연속된 수치 데이터를 범주형 데이터로 표현, bucketing 이라고 부르기도 함\n",
        "* 히스토그램 : 도수분포를 그래프 형태로 표현한 것\n",
        "* 막대그래프와 비슷해 보이지만 다른 그래프\n",
        "* 참고 : [히스토그램 - 위키백과, 우리 모두의 백과사전](https://ko.wikipedia.org/wiki/%ED%9E%88%EC%8A%A4%ED%86%A0%EA%B7%B8%EB%9E%A8)"
      ]
    },
    {
      "cell_type": "code",
      "execution_count": null,
      "metadata": {
        "id": "Sst1EKokxcWr"
      },
      "outputs": [],
      "source": []
    },
    {
      "cell_type": "code",
      "execution_count": null,
      "metadata": {
        "id": "ktMQzS-6xcWr"
      },
      "outputs": [],
      "source": [
        "# bins 의 갯수에 따라 그래프의 표현 방법이 달라집니다.\n"
      ]
    },
    {
      "cell_type": "code",
      "execution_count": null,
      "metadata": {
        "id": "drjYutpyxcWr"
      },
      "outputs": [],
      "source": []
    },
    {
      "cell_type": "markdown",
      "metadata": {
        "id": "gssvPg3sxcWr"
      },
      "source": [
        "## 데이터 색인"
      ]
    },
    {
      "cell_type": "code",
      "execution_count": null,
      "metadata": {
        "id": "VRSdqxLhxcWr"
      },
      "outputs": [],
      "source": [
        "# 케이맨 제도에 있는 회사 찾기\n"
      ]
    },
    {
      "cell_type": "code",
      "execution_count": null,
      "metadata": {
        "scrolled": false,
        "id": "KQhYpiAHxcWr"
      },
      "outputs": [],
      "source": [
        "# 1970년 이전에 상장한 기업을 찾습니다.\n"
      ]
    },
    {
      "cell_type": "code",
      "execution_count": null,
      "metadata": {
        "id": "2bu-M9JKxcWr"
      },
      "outputs": [],
      "source": [
        "# and => &\n",
        "# or  => |\n",
        "True and True"
      ]
    },
    {
      "cell_type": "code",
      "execution_count": null,
      "metadata": {
        "id": "mtDUPQ-sxcWr"
      },
      "outputs": [],
      "source": [
        "# 2020년 상장한 서울특별시에 소재한 코스피 종목을 찾습니다.\n"
      ]
    },
    {
      "cell_type": "code",
      "execution_count": null,
      "metadata": {
        "id": "G3K7BFhzxcWr"
      },
      "outputs": [],
      "source": []
    },
    {
      "cell_type": "markdown",
      "metadata": {
        "id": "47NMulJOxcWs"
      },
      "source": [
        "### 지역별 섹터"
      ]
    },
    {
      "cell_type": "code",
      "execution_count": null,
      "metadata": {
        "id": "fH4dG8LFxcWs"
      },
      "outputs": [],
      "source": [
        "# Sector, Region 으로 crosstab 연산을 합니다.\n",
        "# df_sr\n"
      ]
    },
    {
      "cell_type": "markdown",
      "metadata": {
        "id": "doFGsDBexcWs"
      },
      "source": [
        "### 컬럼과 인덱스 값으로 색인하기"
      ]
    },
    {
      "cell_type": "code",
      "execution_count": null,
      "metadata": {
        "id": "HrxgyLq5xcWs"
      },
      "outputs": [],
      "source": [
        "# 특정 컬럼만 가져오기\n"
      ]
    },
    {
      "cell_type": "markdown",
      "metadata": {
        "id": "vWk2ym6ZxcWs"
      },
      "source": [
        "### 특정 행만 가져오기\n",
        "\n",
        "* .loc[행]\n",
        "* .loc[행, 열]\n",
        "* .loc[조건식, 열]"
      ]
    },
    {
      "cell_type": "code",
      "execution_count": null,
      "metadata": {
        "id": "GB8qxPoKxcWs"
      },
      "outputs": [],
      "source": [
        "# df_sr에서 \"소프트웨어 개발 및 공급업\" 행만 가져오기\n"
      ]
    },
    {
      "cell_type": "code",
      "execution_count": null,
      "metadata": {
        "id": "in3MU7FexcWs"
      },
      "outputs": [],
      "source": [
        "# loc 로 행인덱스 가져오기\n",
        "# 행에서 \"소프트웨어 개발 및 공급업\", \"금융 지원 서비스업\", \"의약품 제조업\" 가져오기\n"
      ]
    },
    {
      "cell_type": "code",
      "execution_count": null,
      "metadata": {
        "id": "bS3uzI7PxcWs"
      },
      "outputs": [],
      "source": [
        "# loc 로 행, 컬럼 가져오기\n",
        "# 행에서 \"소프트웨어 개발 및 공급업\", \"금융 지원 서비스업\", \"의약품 제조업\"\n",
        "# 열에서 \"서울특별시\" 가져오기\n",
        "\n"
      ]
    },
    {
      "cell_type": "code",
      "execution_count": null,
      "metadata": {
        "id": "A_0l9I1zxcWs"
      },
      "outputs": [],
      "source": [
        "# loc로 여러 행과 열 가져오기\n"
      ]
    },
    {
      "cell_type": "code",
      "execution_count": null,
      "metadata": {
        "id": "rLeYMxP8xcWs"
      },
      "outputs": [],
      "source": [
        "# \"소프트웨어 개발 및 공급업\" 만 가져와서 막대그래프를 그립니다.\n"
      ]
    },
    {
      "cell_type": "code",
      "execution_count": null,
      "metadata": {
        "id": "u86giI2XxcWs"
      },
      "outputs": [],
      "source": [
        "# \"의약품 제조업\" 만 가져와서 막대그래프를 그립니다.\n",
        "\n"
      ]
    },
    {
      "cell_type": "code",
      "execution_count": null,
      "metadata": {
        "id": "X_CfGJpnxcWs"
      },
      "outputs": [],
      "source": [
        "# iloc[행]\n",
        "# iloc[행,열]\n"
      ]
    },
    {
      "cell_type": "code",
      "execution_count": null,
      "metadata": {
        "id": "TweJVJ10xcWt"
      },
      "outputs": [],
      "source": []
    },
    {
      "cell_type": "code",
      "execution_count": null,
      "metadata": {
        "id": "4_G6dmfUxcWt"
      },
      "outputs": [],
      "source": []
    },
    {
      "cell_type": "code",
      "execution_count": null,
      "metadata": {
        "id": "Co89HWoyxcWt"
      },
      "outputs": [],
      "source": [
        "# df.head 혹은 tail도 내부에서 iloc를 슬라이싱으로 사용하고 있습니다.\n",
        "# df.head??"
      ]
    },
    {
      "cell_type": "code",
      "execution_count": null,
      "metadata": {
        "id": "wVPUzpm3xcWt"
      },
      "outputs": [],
      "source": []
    },
    {
      "cell_type": "code",
      "execution_count": null,
      "metadata": {
        "id": "LWnWuH6KxcWt"
      },
      "outputs": [],
      "source": [
        "# df_sr.tail??"
      ]
    },
    {
      "cell_type": "code",
      "execution_count": null,
      "metadata": {
        "id": "BG_ZV-V0xcWt"
      },
      "outputs": [],
      "source": []
    },
    {
      "cell_type": "code",
      "execution_count": null,
      "metadata": {
        "id": "xaWyAWrMxcWt"
      },
      "outputs": [],
      "source": []
    },
    {
      "cell_type": "code",
      "execution_count": null,
      "metadata": {
        "id": "A_3GTh9wxcWt"
      },
      "outputs": [],
      "source": []
    },
    {
      "cell_type": "code",
      "execution_count": null,
      "metadata": {
        "id": "sADQp0XYxcWt"
      },
      "outputs": [],
      "source": []
    }
  ],
  "metadata": {
    "colab": {
      "provenance": [],
      "include_colab_link": true
    },
    "kernelspec": {
      "display_name": "Python 3 (ipykernel)",
      "language": "python",
      "name": "python3"
    },
    "language_info": {
      "codemirror_mode": {
        "name": "ipython",
        "version": 3
      },
      "file_extension": ".py",
      "mimetype": "text/x-python",
      "name": "python",
      "nbconvert_exporter": "python",
      "pygments_lexer": "ipython3",
      "version": "3.10.7"
    },
    "toc": {
      "base_numbering": 1,
      "nav_menu": {},
      "number_sections": true,
      "sideBar": true,
      "skip_h1_title": false,
      "title_cell": "Table of Contents",
      "title_sidebar": "Contents",
      "toc_cell": false,
      "toc_position": {
        "height": "calc(100% - 180px)",
        "left": "10px",
        "top": "150px",
        "width": "178.988px"
      },
      "toc_section_display": true,
      "toc_window_display": true
    },
    "varInspector": {
      "cols": {
        "lenName": 16,
        "lenType": 16,
        "lenVar": 40
      },
      "kernels_config": {
        "python": {
          "delete_cmd_postfix": "",
          "delete_cmd_prefix": "del ",
          "library": "var_list.py",
          "varRefreshCmd": "print(var_dic_list())"
        },
        "r": {
          "delete_cmd_postfix": ") ",
          "delete_cmd_prefix": "rm(",
          "library": "var_list.r",
          "varRefreshCmd": "cat(var_dic_list()) "
        }
      },
      "types_to_exclude": [
        "module",
        "function",
        "builtin_function_or_method",
        "instance",
        "_Feature"
      ],
      "window_display": false
    },
    "accelerator": "GPU",
    "gpuClass": "standard"
  },
  "nbformat": 4,
  "nbformat_minor": 0
}